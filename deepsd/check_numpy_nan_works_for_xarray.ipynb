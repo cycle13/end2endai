{
 "cells": [
  {
   "cell_type": "code",
   "execution_count": 1,
   "metadata": {},
   "outputs": [],
   "source": [
    "import xarray as xr\n",
    "import numpy as np\n",
    "import pandas as pd\n",
    "import netCDF4\n",
    "import cartopy.crs as ccrs\n",
    "import matplotlib.pyplot as plt"
   ]
  },
  {
   "cell_type": "code",
   "execution_count": 3,
   "metadata": {},
   "outputs": [],
   "source": [
    "data_dir = '/lus/dal/cccr_rnd/manmeet/deepsd/data/prism/ppt/raw/prism_ppt_4km2_2014.nc'\n",
    "ds_prism = xr.open_dataset(data_dir)"
   ]
  },
  {
   "cell_type": "code",
   "execution_count": 4,
   "metadata": {},
   "outputs": [],
   "source": [
    "data_dir = '/lus/dal/cccr_rnd/manmeet/deepsd/data/wcs_4km_prism.nc'\n",
    "ds_prism_elev = xr.open_dataset(data_dir)"
   ]
  },
  {
   "cell_type": "code",
   "execution_count": 5,
   "metadata": {},
   "outputs": [
    {
     "data": {
      "text/plain": [
       "<xarray.Dataset>\n",
       "Dimensions:  (lat: 621, lon: 1405, time: 365)\n",
       "Coordinates:\n",
       "  * lon      (lon) float64 -125.0 -125.0 -124.9 -124.9 ... -66.6 -66.56 -66.52\n",
       "  * lat      (lat) float64 49.94 49.9 49.85 49.81 ... 24.23 24.19 24.15 24.1\n",
       "  * time     (time) datetime64[ns] 2014-01-01 2014-01-02 ... 2014-12-31\n",
       "Data variables:\n",
       "    ppt      (time, lat, lon) float32 ..."
      ]
     },
     "execution_count": 5,
     "metadata": {},
     "output_type": "execute_result"
    }
   ],
   "source": [
    "ds_prism"
   ]
  },
  {
   "cell_type": "code",
   "execution_count": 6,
   "metadata": {},
   "outputs": [
    {
     "data": {
      "text/plain": [
       "<xarray.Dataset>\n",
       "Dimensions:  (lat: 621, lon: 1405)\n",
       "Coordinates:\n",
       "  * lon      (lon) float64 -125.0 -125.0 -124.9 -124.9 ... -66.6 -66.56 -66.52\n",
       "  * lat      (lat) float64 49.94 49.9 49.85 49.81 ... 24.23 24.19 24.15 24.1\n",
       "Data variables:\n",
       "    Band1    (lat, lon) float32 ...\n",
       "Attributes:\n",
       "    CDI:                          Climate Data Interface version 1.6.2 (http:...\n",
       "    Conventions:                  CF-1.5\n",
       "    history:                      Wed Jun 08 10:55:25 2016: cdo remapbil,/rai...\n",
       "    GDAL_TIFFTAG_RESOLUTIONUNIT:  2\n",
       "    GDAL_TIFFTAG_XRESOLUTION:     72.0\n",
       "    GDAL_TIFFTAG_YRESOLUTION:     72.0\n",
       "    GDAL:                         GDAL 1.11.2, released 2015/02/10\n",
       "    CDO:                          Climate Data Operators version 1.6.2 (http:..."
      ]
     },
     "execution_count": 6,
     "metadata": {},
     "output_type": "execute_result"
    }
   ],
   "source": [
    "ds_prism_elev"
   ]
  },
  {
   "cell_type": "code",
   "execution_count": 23,
   "metadata": {},
   "outputs": [
    {
     "data": {
      "text/plain": [
       "142669010"
      ]
     },
     "execution_count": 23,
     "metadata": {},
     "output_type": "execute_result"
    }
   ],
   "source": [
    "#np.sum(ds_prism.ppt[:,0,0]==np.nan)\n",
    "#ds_prism.ppt.values==nan\n",
    "np.sum(np.isnan(ds_prism.ppt.values))"
   ]
  },
  {
   "cell_type": "code",
   "execution_count": 24,
   "metadata": {},
   "outputs": [
    {
     "data": {
      "text/plain": [
       "(365, 621, 1405)"
      ]
     },
     "execution_count": 24,
     "metadata": {},
     "output_type": "execute_result"
    }
   ],
   "source": [
    "ds_prism.ppt.values.shape"
   ]
  },
  {
   "cell_type": "code",
   "execution_count": 25,
   "metadata": {},
   "outputs": [
    {
     "data": {
      "text/plain": [
       "318464325"
      ]
     },
     "execution_count": 25,
     "metadata": {},
     "output_type": "execute_result"
    }
   ],
   "source": [
    "365*621*1405"
   ]
  },
  {
   "cell_type": "code",
   "execution_count": 26,
   "metadata": {},
   "outputs": [],
   "source": [
    "# So the values are identified by numpy nans"
   ]
  },
  {
   "cell_type": "code",
   "execution_count": 28,
   "metadata": {},
   "outputs": [],
   "source": [
    "ds_prism.ppt.values[:,:,:]=np.nan"
   ]
  },
  {
   "cell_type": "code",
   "execution_count": 29,
   "metadata": {},
   "outputs": [
    {
     "data": {
      "text/plain": [
       "318464325"
      ]
     },
     "execution_count": 29,
     "metadata": {},
     "output_type": "execute_result"
    }
   ],
   "source": [
    "np.sum(np.isnan(ds_prism.ppt.values))"
   ]
  },
  {
   "cell_type": "code",
   "execution_count": 30,
   "metadata": {},
   "outputs": [],
   "source": [
    "# Check satisfied"
   ]
  },
  {
   "cell_type": "code",
   "execution_count": null,
   "metadata": {},
   "outputs": [],
   "source": []
  }
 ],
 "metadata": {
  "kernelspec": {
   "display_name": "Python 3",
   "language": "python",
   "name": "python3"
  },
  "language_info": {
   "codemirror_mode": {
    "name": "ipython",
    "version": 3
   },
   "file_extension": ".py",
   "mimetype": "text/x-python",
   "name": "python",
   "nbconvert_exporter": "python",
   "pygments_lexer": "ipython3",
   "version": "3.5.6"
  }
 },
 "nbformat": 4,
 "nbformat_minor": 2
}
