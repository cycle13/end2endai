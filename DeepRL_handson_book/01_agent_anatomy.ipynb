{
 "cells": [
  {
   "cell_type": "code",
   "execution_count": 1,
   "metadata": {},
   "outputs": [],
   "source": [
    "import random"
   ]
  },
  {
   "cell_type": "code",
   "execution_count": 2,
   "metadata": {},
   "outputs": [],
   "source": [
    "class Environment:\n",
    "    def __init__(self):\n",
    "        self.steps_left = 10\n",
    "\n",
    "    def get_observation(self):\n",
    "        return [0.0, 0.0, 0.0]\n",
    "\n",
    "    def get_actions(self):\n",
    "        return [0, 1]\n",
    "\n",
    "    def is_done(self):\n",
    "        return self.steps_left == 0\n",
    "\n",
    "    def action(self, action):\n",
    "        if self.is_done():\n",
    "            raise Exception(\"Game is over\")\n",
    "        self.steps_left -= 1\n",
    "        return random.random()"
   ]
  },
  {
   "cell_type": "code",
   "execution_count": 14,
   "metadata": {},
   "outputs": [],
   "source": [
    "class Agent:\n",
    "    def __init__(self):\n",
    "        self.total_reward = 0.0\n",
    "\n",
    "    def step(self, env):\n",
    "        current_obs = env.get_observation()\n",
    "        print('current_obs', current_obs)\n",
    "        actions = env.get_actions()\n",
    "        print('actions', actions, random.choice(actions))\n",
    "        reward = env.action(random.choice(actions))\n",
    "        print('reward', reward)\n",
    "        self.total_reward += reward"
   ]
  },
  {
   "cell_type": "code",
   "execution_count": 15,
   "metadata": {},
   "outputs": [
    {
     "name": "stdout",
     "output_type": "stream",
     "text": [
      "current_obs [0.0, 0.0, 0.0]\n",
      "actions [0, 1] 0\n",
      "reward 0.6612209871450855\n",
      "current_obs [0.0, 0.0, 0.0]\n",
      "actions [0, 1] 0\n",
      "reward 0.5907062477297583\n",
      "current_obs [0.0, 0.0, 0.0]\n",
      "actions [0, 1] 0\n",
      "reward 0.6323988521421097\n",
      "current_obs [0.0, 0.0, 0.0]\n",
      "actions [0, 1] 0\n",
      "reward 0.11583201403258381\n",
      "current_obs [0.0, 0.0, 0.0]\n",
      "actions [0, 1] 1\n",
      "reward 0.9168983575201265\n",
      "current_obs [0.0, 0.0, 0.0]\n",
      "actions [0, 1] 1\n",
      "reward 0.8714213305021296\n",
      "current_obs [0.0, 0.0, 0.0]\n",
      "actions [0, 1] 1\n",
      "reward 0.8094608194393172\n",
      "current_obs [0.0, 0.0, 0.0]\n",
      "actions [0, 1] 1\n",
      "reward 0.8582222059838279\n",
      "current_obs [0.0, 0.0, 0.0]\n",
      "actions [0, 1] 1\n",
      "reward 0.7254566747944041\n",
      "current_obs [0.0, 0.0, 0.0]\n",
      "actions [0, 1] 0\n",
      "reward 0.7591216205271687\n",
      "Total reward got: 6.9407\n"
     ]
    }
   ],
   "source": [
    "if __name__ == \"__main__\":\n",
    "    env = Environment()\n",
    "    agent = Agent()\n",
    "\n",
    "    while not env.is_done():\n",
    "        agent.step(env)\n",
    "\n",
    "    print(\"Total reward got: %.4f\" % agent.total_reward)"
   ]
  },
  {
   "cell_type": "code",
   "execution_count": null,
   "metadata": {},
   "outputs": [],
   "source": []
  }
 ],
 "metadata": {
  "kernelspec": {
   "display_name": "Python 3",
   "language": "python",
   "name": "python3"
  },
  "language_info": {
   "codemirror_mode": {
    "name": "ipython",
    "version": 3
   },
   "file_extension": ".py",
   "mimetype": "text/x-python",
   "name": "python",
   "nbconvert_exporter": "python",
   "pygments_lexer": "ipython3",
   "version": "3.7.4"
  }
 },
 "nbformat": 4,
 "nbformat_minor": 2
}
