{
 "cells": [
  {
   "cell_type": "code",
   "execution_count": 2,
   "metadata": {},
   "outputs": [],
   "source": [
    "import gym"
   ]
  },
  {
   "cell_type": "code",
   "execution_count": 4,
   "metadata": {},
   "outputs": [
    {
     "name": "stdout",
     "output_type": "stream",
     "text": [
      "obs [ 0.01398919 -0.04694614  0.02273367  0.04935643]\n",
      "action 0\n",
      "obs reward done [ 0.01305026 -0.24238657  0.02372079  0.34912444] 1.0 False\n",
      "action 1\n",
      "obs reward done [ 0.00820253 -0.04760988  0.03070328  0.06401486] 1.0 False\n",
      "action 0\n",
      "obs reward done [ 0.00725033 -0.24315828  0.03198358  0.36622456] 1.0 False\n",
      "action 0\n",
      "obs reward done [ 0.00238717 -0.43871979  0.03930807  0.66881837] 1.0 False\n",
      "action 1\n",
      "obs reward done [-0.00638723 -0.24416583  0.05268444  0.38876645] 1.0 False\n",
      "action 0\n",
      "obs reward done [-0.01127054 -0.43999445  0.06045977  0.69758388] 1.0 False\n",
      "action 0\n",
      "obs reward done [-0.02007043 -0.63590035  0.07441145  1.00867016] 1.0 False\n",
      "action 1\n",
      "obs reward done [-0.03278844 -0.44184632  0.09458485  0.74025138] 1.0 False\n",
      "action 0\n",
      "obs reward done [-0.04162537 -0.63813808  0.10938988  1.06113944] 1.0 False\n",
      "action 1\n",
      "obs reward done [-0.05438813 -0.44462129  0.13061266  0.80469578] 1.0 False\n",
      "action 0\n",
      "obs reward done [-0.06328055 -0.64126883  0.14670658  1.13544565] 1.0 False\n",
      "action 0\n",
      "obs reward done [-0.07610593 -0.83797328  0.16941549  1.47030997] 1.0 False\n",
      "action 1\n",
      "obs reward done [-0.0928654  -0.64527999  0.19882169  1.23497831] 1.0 False\n",
      "action 1\n",
      "obs reward done [-0.105771   -0.45318931  0.22352126  1.0105878 ] 1.0 True\n",
      "Episode done in 14 steps, total reward 14.00\n"
     ]
    }
   ],
   "source": [
    "if __name__ == \"__main__\":\n",
    "    env = gym.make(\"CartPole-v0\")\n",
    "\n",
    "    total_reward = 0.0\n",
    "    total_steps = 0\n",
    "    obs = env.reset()\n",
    "    print('obs', obs)\n",
    "\n",
    "    while True:\n",
    "        action = env.action_space.sample()\n",
    "        print('action', action)\n",
    "        obs, reward, done, _ = env.step(action)\n",
    "        print('obs', 'reward', 'done',obs, reward, done )\n",
    "        total_reward += reward\n",
    "        total_steps += 1\n",
    "        if done:\n",
    "            break\n",
    "\n",
    "    print(\"Episode done in %d steps, total reward %.2f\" % (total_steps, total_reward))"
   ]
  },
  {
   "cell_type": "code",
   "execution_count": null,
   "metadata": {},
   "outputs": [],
   "source": []
  }
 ],
 "metadata": {
  "kernelspec": {
   "display_name": "Python 3",
   "language": "python",
   "name": "python3"
  },
  "language_info": {
   "codemirror_mode": {
    "name": "ipython",
    "version": 3
   },
   "file_extension": ".py",
   "mimetype": "text/x-python",
   "name": "python",
   "nbconvert_exporter": "python",
   "pygments_lexer": "ipython3",
   "version": "3.6.9"
  }
 },
 "nbformat": 4,
 "nbformat_minor": 2
}
