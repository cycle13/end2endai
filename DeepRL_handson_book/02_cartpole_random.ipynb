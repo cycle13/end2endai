{
 "cells": [
  {
   "cell_type": "code",
   "execution_count": 1,
   "metadata": {},
   "outputs": [],
   "source": [
    "import gym"
   ]
  },
  {
   "cell_type": "code",
   "execution_count": 3,
   "metadata": {},
   "outputs": [
    {
     "name": "stdout",
     "output_type": "stream",
     "text": [
      "obs [-0.00485156  0.04061716 -0.03400369 -0.01030884]\n",
      "action 1\n",
      "obs reward done [-0.00403922  0.23620986 -0.03420987 -0.31352344] 1.0 False\n",
      "action 0\n",
      "obs reward done [ 0.00068498  0.04159152 -0.04048034 -0.03182248] 1.0 False\n",
      "action 0\n",
      "obs reward done [ 0.00151681 -0.15292725 -0.04111679  0.24781867] 1.0 False\n",
      "action 0\n",
      "obs reward done [-0.00154173 -0.3474386  -0.03616041  0.52725418] 1.0 False\n",
      "action 0\n",
      "obs reward done [-0.00849051 -0.54203361 -0.02561533  0.80832703] 1.0 False\n",
      "action 0\n",
      "obs reward done [-0.01933118 -0.73679534 -0.00944879  1.0928437 ] 1.0 False\n",
      "action 1\n",
      "obs reward done [-0.03406709 -0.54155017  0.01240808  0.79721112] 1.0 False\n",
      "action 1\n",
      "obs reward done [-0.04489809 -0.34660065  0.02835231  0.50845724] 1.0 False\n",
      "action 1\n",
      "obs reward done [-0.0518301  -0.1518894   0.03852145  0.2248422 ] 1.0 False\n",
      "action 0\n",
      "obs reward done [-0.05486789 -0.34754012  0.04301829  0.52942307] 1.0 False\n",
      "action 0\n",
      "obs reward done [-0.06181869 -0.54324002  0.05360676  0.83534481] 1.0 False\n",
      "action 1\n",
      "obs reward done [-0.07268349 -0.34888974  0.07031365  0.55999102] 1.0 False\n",
      "action 1\n",
      "obs reward done [-0.07966129 -0.15482147  0.08151347  0.2902631 ] 1.0 False\n",
      "action 1\n",
      "obs reward done [-0.08275772  0.03904928  0.08731873  0.024361  ] 1.0 False\n",
      "action 0\n",
      "obs reward done [-0.08197673 -0.15720933  0.08780595  0.34326644] 1.0 False\n",
      "action 1\n",
      "obs reward done [-0.08512092  0.03656087  0.09467128  0.07951267] 1.0 False\n",
      "action 0\n",
      "obs reward done [-0.0843897  -0.15978175  0.09626154  0.40049957] 1.0 False\n",
      "action 0\n",
      "obs reward done [-0.08758534 -0.35612796  0.10427153  0.7219126 ] 1.0 False\n",
      "action 0\n",
      "obs reward done [-0.09470789 -0.55252591  0.11870978  1.04550976] 1.0 False\n",
      "action 0\n",
      "obs reward done [-0.10575841 -0.74900644  0.13961998  1.37297515] 1.0 False\n",
      "action 0\n",
      "obs reward done [-0.12073854 -0.94557033  0.16707948  1.70586687] 1.0 False\n",
      "action 0\n",
      "obs reward done [-0.13964995 -1.1421741   0.20119682  2.04555901] 1.0 False\n",
      "action 0\n",
      "obs reward done [-0.16249343 -1.33871413  0.242108    2.39317577] 1.0 True\n",
      "Episode done in 23 steps, total reward 23.00\n"
     ]
    }
   ],
   "source": [
    "if __name__ == \"__main__\":\n",
    "    env = gym.make(\"CartPole-v0\")\n",
    "\n",
    "    total_reward = 0.0\n",
    "    total_steps = 0\n",
    "    obs = env.reset()\n",
    "    print('obs', obs)\n",
    "\n",
    "    while True:\n",
    "        action = env.action_space.sample()\n",
    "        print('action', action)\n",
    "        obs, reward, done, _ = env.step(action)\n",
    "        print('obs', 'reward', 'done',obs, reward, done )\n",
    "        total_reward += reward\n",
    "        total_steps += 1\n",
    "        if done:\n",
    "            break\n",
    "\n",
    "    print(\"Episode done in %d steps, total reward %.2f\" % (total_steps, total_reward))"
   ]
  },
  {
   "cell_type": "code",
   "execution_count": null,
   "metadata": {},
   "outputs": [],
   "source": []
  }
 ],
 "metadata": {
  "kernelspec": {
   "display_name": "Python 3",
   "language": "python",
   "name": "python3"
  },
  "language_info": {
   "codemirror_mode": {
    "name": "ipython",
    "version": 3
   },
   "file_extension": ".py",
   "mimetype": "text/x-python",
   "name": "python",
   "nbconvert_exporter": "python",
   "pygments_lexer": "ipython3",
   "version": "3.7.4"
  }
 },
 "nbformat": 4,
 "nbformat_minor": 2
}
