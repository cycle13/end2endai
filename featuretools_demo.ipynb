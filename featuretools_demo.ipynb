{
 "cells": [
  {
   "cell_type": "code",
   "execution_count": 1,
   "metadata": {},
   "outputs": [],
   "source": [
    "# Following https://www.analyticsvidhya.com/blog/2018/08/guide-automated-feature-engineering-featuretools-python/"
   ]
  },
  {
   "cell_type": "code",
   "execution_count": 3,
   "metadata": {},
   "outputs": [],
   "source": [
    "import featuretools as ft\n",
    "import numpy as np\n",
    "import pandas as pd\n",
    "\n",
    "train = pd.read_csv(\"Train_UWu5bXk.txt\")\n",
    "test = pd.read_csv(\"Test_u94Q5KV.txt\")"
   ]
  },
  {
   "cell_type": "code",
   "execution_count": 4,
   "metadata": {},
   "outputs": [],
   "source": [
    "# saving identifiers\n",
    "test_Item_Identifier = test['Item_Identifier']\n",
    "test_Outlet_Identifier = test['Outlet_Identifier']\n",
    "sales = train['Item_Outlet_Sales']\n",
    "train.drop(['Item_Outlet_Sales'], axis=1, inplace=True)"
   ]
  },
  {
   "cell_type": "code",
   "execution_count": 5,
   "metadata": {},
   "outputs": [],
   "source": [
    "combi = train.append(test, ignore_index=True)"
   ]
  },
  {
   "cell_type": "code",
   "execution_count": 7,
   "metadata": {},
   "outputs": [
    {
     "data": {
      "text/plain": [
       "Item_Identifier                 0\n",
       "Item_Weight                  2439\n",
       "Item_Fat_Content                0\n",
       "Item_Visibility                 0\n",
       "Item_Type                       0\n",
       "Item_MRP                        0\n",
       "Outlet_Identifier               0\n",
       "Outlet_Establishment_Year       0\n",
       "Outlet_Size                  4016\n",
       "Outlet_Location_Type            0\n",
       "Outlet_Type                     0\n",
       "dtype: int64"
      ]
     },
     "execution_count": 7,
     "metadata": {},
     "output_type": "execute_result"
    }
   ],
   "source": [
    "combi.isnull().sum()"
   ]
  },
  {
   "cell_type": "code",
   "execution_count": 8,
   "metadata": {},
   "outputs": [],
   "source": [
    "# imputing missing data\n",
    "combi['Item_Weight'].fillna(combi['Item_Weight'].mean(), inplace = True)\n",
    "combi['Outlet_Size'].fillna(\"missing\", inplace = True)"
   ]
  },
  {
   "cell_type": "code",
   "execution_count": 9,
   "metadata": {},
   "outputs": [
    {
     "data": {
      "text/plain": [
       "Low Fat    8485\n",
       "Regular    4824\n",
       "LF          522\n",
       "reg         195\n",
       "low fat     178\n",
       "Name: Item_Fat_Content, dtype: int64"
      ]
     },
     "execution_count": 9,
     "metadata": {},
     "output_type": "execute_result"
    }
   ],
   "source": [
    "combi['Item_Fat_Content'].value_counts()"
   ]
  },
  {
   "cell_type": "code",
   "execution_count": 10,
   "metadata": {},
   "outputs": [],
   "source": [
    "# dictionary to replace the categories\n",
    "fat_content_dict = {'Low Fat':0, 'Regular':1, 'LF':0, 'reg':1, 'low fat':0}\n",
    "\n",
    "combi['Item_Fat_Content'] = combi['Item_Fat_Content'].replace(fat_content_dict, regex=True)"
   ]
  },
  {
   "cell_type": "code",
   "execution_count": 11,
   "metadata": {},
   "outputs": [],
   "source": [
    "combi['id'] = combi['Item_Identifier'] + combi['Outlet_Identifier']\n",
    "combi.drop(['Item_Identifier'], axis=1, inplace=True)"
   ]
  },
  {
   "cell_type": "code",
   "execution_count": 12,
   "metadata": {},
   "outputs": [
    {
     "data": {
      "text/plain": [
       "Entityset: sales\n",
       "  Entities:\n",
       "    bigmart [Rows: 14204, Columns: 11]\n",
       "  Relationships:\n",
       "    No relationships"
      ]
     },
     "execution_count": 12,
     "metadata": {},
     "output_type": "execute_result"
    }
   ],
   "source": [
    "# creating and entity set 'es'\n",
    "es = ft.EntitySet(id = 'sales')\n",
    "\n",
    "# adding a dataframe \n",
    "es.entity_from_dataframe(entity_id = 'bigmart', dataframe = combi, index = 'id')"
   ]
  },
  {
   "cell_type": "code",
   "execution_count": 13,
   "metadata": {},
   "outputs": [
    {
     "data": {
      "text/plain": [
       "Entityset: sales\n",
       "  Entities:\n",
       "    bigmart [Rows: 14204, Columns: 7]\n",
       "    outlet [Rows: 10, Columns: 5]\n",
       "  Relationships:\n",
       "    bigmart.Outlet_Identifier -> outlet.Outlet_Identifier"
      ]
     },
     "execution_count": 13,
     "metadata": {},
     "output_type": "execute_result"
    }
   ],
   "source": [
    "es.normalize_entity(base_entity_id='bigmart', new_entity_id='outlet', index = 'Outlet_Identifier', \n",
    "additional_variables = ['Outlet_Establishment_Year', 'Outlet_Size', 'Outlet_Location_Type', 'Outlet_Type'])"
   ]
  },
  {
   "cell_type": "code",
   "execution_count": 15,
   "metadata": {},
   "outputs": [
    {
     "name": "stdout",
     "output_type": "stream",
     "text": [
      "Entityset: sales\n",
      "  Entities:\n",
      "    bigmart [Rows: 14204, Columns: 7]\n",
      "    outlet [Rows: 10, Columns: 5]\n",
      "  Relationships:\n",
      "    bigmart.Outlet_Identifier -> outlet.Outlet_Identifier\n"
     ]
    }
   ],
   "source": [
    "print(es)"
   ]
  },
  {
   "cell_type": "code",
   "execution_count": 16,
   "metadata": {},
   "outputs": [
    {
     "name": "stdout",
     "output_type": "stream",
     "text": [
      "Built 37 features\n",
      "EntitySet scattered to 3 workers in 2 seconds           \n",
      "Elapsed: 00:01 | Progress: 100%|██████████| Remaining: 00:00\n"
     ]
    }
   ],
   "source": [
    "feature_matrix, feature_names = ft.dfs(entityset=es, \n",
    "target_entity = 'bigmart', \n",
    "max_depth = 2, \n",
    "verbose = 1, \n",
    "n_jobs = 3)"
   ]
  },
  {
   "cell_type": "code",
   "execution_count": 17,
   "metadata": {},
   "outputs": [
    {
     "data": {
      "text/plain": [
       "Index(['Item_Weight', 'Item_Fat_Content', 'Item_Visibility', 'Item_Type',\n",
       "       'Item_MRP', 'Outlet_Identifier', 'outlet.Outlet_Establishment_Year',\n",
       "       'outlet.Outlet_Size', 'outlet.Outlet_Location_Type',\n",
       "       'outlet.Outlet_Type', 'outlet.SUM(bigmart.Item_Weight)',\n",
       "       'outlet.SUM(bigmart.Item_Fat_Content)',\n",
       "       'outlet.SUM(bigmart.Item_Visibility)', 'outlet.SUM(bigmart.Item_MRP)',\n",
       "       'outlet.STD(bigmart.Item_Weight)',\n",
       "       'outlet.STD(bigmart.Item_Fat_Content)',\n",
       "       'outlet.STD(bigmart.Item_Visibility)', 'outlet.STD(bigmart.Item_MRP)',\n",
       "       'outlet.MAX(bigmart.Item_Weight)',\n",
       "       'outlet.MAX(bigmart.Item_Fat_Content)',\n",
       "       'outlet.MAX(bigmart.Item_Visibility)', 'outlet.MAX(bigmart.Item_MRP)',\n",
       "       'outlet.SKEW(bigmart.Item_Weight)',\n",
       "       'outlet.SKEW(bigmart.Item_Fat_Content)',\n",
       "       'outlet.SKEW(bigmart.Item_Visibility)', 'outlet.SKEW(bigmart.Item_MRP)',\n",
       "       'outlet.MIN(bigmart.Item_Weight)',\n",
       "       'outlet.MIN(bigmart.Item_Fat_Content)',\n",
       "       'outlet.MIN(bigmart.Item_Visibility)', 'outlet.MIN(bigmart.Item_MRP)',\n",
       "       'outlet.MEAN(bigmart.Item_Weight)',\n",
       "       'outlet.MEAN(bigmart.Item_Fat_Content)',\n",
       "       'outlet.MEAN(bigmart.Item_Visibility)', 'outlet.MEAN(bigmart.Item_MRP)',\n",
       "       'outlet.COUNT(bigmart)', 'outlet.NUM_UNIQUE(bigmart.Item_Type)',\n",
       "       'outlet.MODE(bigmart.Item_Type)'],\n",
       "      dtype='object')"
      ]
     },
     "execution_count": 17,
     "metadata": {},
     "output_type": "execute_result"
    }
   ],
   "source": [
    "feature_matrix.columns"
   ]
  },
  {
   "cell_type": "code",
   "execution_count": 18,
   "metadata": {},
   "outputs": [
    {
     "data": {
      "text/html": [
       "<div>\n",
       "<style scoped>\n",
       "    .dataframe tbody tr th:only-of-type {\n",
       "        vertical-align: middle;\n",
       "    }\n",
       "\n",
       "    .dataframe tbody tr th {\n",
       "        vertical-align: top;\n",
       "    }\n",
       "\n",
       "    .dataframe thead th {\n",
       "        text-align: right;\n",
       "    }\n",
       "</style>\n",
       "<table border=\"1\" class=\"dataframe\">\n",
       "  <thead>\n",
       "    <tr style=\"text-align: right;\">\n",
       "      <th></th>\n",
       "      <th>Item_Weight</th>\n",
       "      <th>Item_Fat_Content</th>\n",
       "      <th>Item_Visibility</th>\n",
       "      <th>Item_Type</th>\n",
       "      <th>Item_MRP</th>\n",
       "      <th>Outlet_Identifier</th>\n",
       "      <th>outlet.Outlet_Establishment_Year</th>\n",
       "      <th>outlet.Outlet_Size</th>\n",
       "      <th>outlet.Outlet_Location_Type</th>\n",
       "      <th>outlet.Outlet_Type</th>\n",
       "      <th>...</th>\n",
       "      <th>outlet.MIN(bigmart.Item_Fat_Content)</th>\n",
       "      <th>outlet.MIN(bigmart.Item_Visibility)</th>\n",
       "      <th>outlet.MIN(bigmart.Item_MRP)</th>\n",
       "      <th>outlet.MEAN(bigmart.Item_Weight)</th>\n",
       "      <th>outlet.MEAN(bigmart.Item_Fat_Content)</th>\n",
       "      <th>outlet.MEAN(bigmart.Item_Visibility)</th>\n",
       "      <th>outlet.MEAN(bigmart.Item_MRP)</th>\n",
       "      <th>outlet.COUNT(bigmart)</th>\n",
       "      <th>outlet.NUM_UNIQUE(bigmart.Item_Type)</th>\n",
       "      <th>outlet.MODE(bigmart.Item_Type)</th>\n",
       "    </tr>\n",
       "    <tr>\n",
       "      <th>id</th>\n",
       "      <th></th>\n",
       "      <th></th>\n",
       "      <th></th>\n",
       "      <th></th>\n",
       "      <th></th>\n",
       "      <th></th>\n",
       "      <th></th>\n",
       "      <th></th>\n",
       "      <th></th>\n",
       "      <th></th>\n",
       "      <th></th>\n",
       "      <th></th>\n",
       "      <th></th>\n",
       "      <th></th>\n",
       "      <th></th>\n",
       "      <th></th>\n",
       "      <th></th>\n",
       "      <th></th>\n",
       "      <th></th>\n",
       "      <th></th>\n",
       "      <th></th>\n",
       "    </tr>\n",
       "  </thead>\n",
       "  <tbody>\n",
       "    <tr>\n",
       "      <th>DRA12OUT010</th>\n",
       "      <td>11.600000</td>\n",
       "      <td>0</td>\n",
       "      <td>0.068535</td>\n",
       "      <td>Soft Drinks</td>\n",
       "      <td>143.0154</td>\n",
       "      <td>OUT010</td>\n",
       "      <td>1998</td>\n",
       "      <td>missing</td>\n",
       "      <td>Tier 3</td>\n",
       "      <td>Grocery Store</td>\n",
       "      <td>...</td>\n",
       "      <td>0</td>\n",
       "      <td>0.0</td>\n",
       "      <td>32.6558</td>\n",
       "      <td>12.722870</td>\n",
       "      <td>0.356757</td>\n",
       "      <td>0.101939</td>\n",
       "      <td>141.159742</td>\n",
       "      <td>925</td>\n",
       "      <td>16</td>\n",
       "      <td>Fruits and Vegetables</td>\n",
       "    </tr>\n",
       "    <tr>\n",
       "      <th>DRA12OUT013</th>\n",
       "      <td>11.600000</td>\n",
       "      <td>0</td>\n",
       "      <td>0.040912</td>\n",
       "      <td>Soft Drinks</td>\n",
       "      <td>142.3154</td>\n",
       "      <td>OUT013</td>\n",
       "      <td>1987</td>\n",
       "      <td>High</td>\n",
       "      <td>Tier 3</td>\n",
       "      <td>Supermarket Type1</td>\n",
       "      <td>...</td>\n",
       "      <td>0</td>\n",
       "      <td>0.0</td>\n",
       "      <td>31.4900</td>\n",
       "      <td>12.788139</td>\n",
       "      <td>0.353509</td>\n",
       "      <td>0.060242</td>\n",
       "      <td>141.128428</td>\n",
       "      <td>1553</td>\n",
       "      <td>16</td>\n",
       "      <td>Fruits and Vegetables</td>\n",
       "    </tr>\n",
       "    <tr>\n",
       "      <th>DRA12OUT017</th>\n",
       "      <td>11.600000</td>\n",
       "      <td>0</td>\n",
       "      <td>0.041178</td>\n",
       "      <td>Soft Drinks</td>\n",
       "      <td>140.3154</td>\n",
       "      <td>OUT017</td>\n",
       "      <td>2007</td>\n",
       "      <td>missing</td>\n",
       "      <td>Tier 2</td>\n",
       "      <td>Supermarket Type1</td>\n",
       "      <td>...</td>\n",
       "      <td>0</td>\n",
       "      <td>0.0</td>\n",
       "      <td>32.0900</td>\n",
       "      <td>12.782080</td>\n",
       "      <td>0.352560</td>\n",
       "      <td>0.061142</td>\n",
       "      <td>140.998931</td>\n",
       "      <td>1543</td>\n",
       "      <td>16</td>\n",
       "      <td>Snack Foods</td>\n",
       "    </tr>\n",
       "    <tr>\n",
       "      <th>DRA12OUT018</th>\n",
       "      <td>11.600000</td>\n",
       "      <td>0</td>\n",
       "      <td>0.041113</td>\n",
       "      <td>Soft Drinks</td>\n",
       "      <td>142.0154</td>\n",
       "      <td>OUT018</td>\n",
       "      <td>2009</td>\n",
       "      <td>Medium</td>\n",
       "      <td>Tier 3</td>\n",
       "      <td>Supermarket Type2</td>\n",
       "      <td>...</td>\n",
       "      <td>0</td>\n",
       "      <td>0.0</td>\n",
       "      <td>31.8900</td>\n",
       "      <td>12.803638</td>\n",
       "      <td>0.353816</td>\n",
       "      <td>0.059976</td>\n",
       "      <td>141.000899</td>\n",
       "      <td>1546</td>\n",
       "      <td>16</td>\n",
       "      <td>Fruits and Vegetables</td>\n",
       "    </tr>\n",
       "    <tr>\n",
       "      <th>DRA12OUT027</th>\n",
       "      <td>12.792854</td>\n",
       "      <td>0</td>\n",
       "      <td>0.040748</td>\n",
       "      <td>Soft Drinks</td>\n",
       "      <td>140.0154</td>\n",
       "      <td>OUT027</td>\n",
       "      <td>1985</td>\n",
       "      <td>Medium</td>\n",
       "      <td>Tier 3</td>\n",
       "      <td>Supermarket Type3</td>\n",
       "      <td>...</td>\n",
       "      <td>0</td>\n",
       "      <td>0.0</td>\n",
       "      <td>31.2900</td>\n",
       "      <td>12.792854</td>\n",
       "      <td>0.353432</td>\n",
       "      <td>0.060344</td>\n",
       "      <td>141.012347</td>\n",
       "      <td>1559</td>\n",
       "      <td>16</td>\n",
       "      <td>Fruits and Vegetables</td>\n",
       "    </tr>\n",
       "  </tbody>\n",
       "</table>\n",
       "<p>5 rows × 37 columns</p>\n",
       "</div>"
      ],
      "text/plain": [
       "             Item_Weight  Item_Fat_Content  Item_Visibility    Item_Type  \\\n",
       "id                                                                         \n",
       "DRA12OUT010    11.600000                 0         0.068535  Soft Drinks   \n",
       "DRA12OUT013    11.600000                 0         0.040912  Soft Drinks   \n",
       "DRA12OUT017    11.600000                 0         0.041178  Soft Drinks   \n",
       "DRA12OUT018    11.600000                 0         0.041113  Soft Drinks   \n",
       "DRA12OUT027    12.792854                 0         0.040748  Soft Drinks   \n",
       "\n",
       "             Item_MRP Outlet_Identifier  outlet.Outlet_Establishment_Year  \\\n",
       "id                                                                          \n",
       "DRA12OUT010  143.0154            OUT010                              1998   \n",
       "DRA12OUT013  142.3154            OUT013                              1987   \n",
       "DRA12OUT017  140.3154            OUT017                              2007   \n",
       "DRA12OUT018  142.0154            OUT018                              2009   \n",
       "DRA12OUT027  140.0154            OUT027                              1985   \n",
       "\n",
       "            outlet.Outlet_Size outlet.Outlet_Location_Type outlet.Outlet_Type  \\\n",
       "id                                                                              \n",
       "DRA12OUT010            missing                      Tier 3      Grocery Store   \n",
       "DRA12OUT013               High                      Tier 3  Supermarket Type1   \n",
       "DRA12OUT017            missing                      Tier 2  Supermarket Type1   \n",
       "DRA12OUT018             Medium                      Tier 3  Supermarket Type2   \n",
       "DRA12OUT027             Medium                      Tier 3  Supermarket Type3   \n",
       "\n",
       "             ...  outlet.MIN(bigmart.Item_Fat_Content)  \\\n",
       "id           ...                                         \n",
       "DRA12OUT010  ...                                     0   \n",
       "DRA12OUT013  ...                                     0   \n",
       "DRA12OUT017  ...                                     0   \n",
       "DRA12OUT018  ...                                     0   \n",
       "DRA12OUT027  ...                                     0   \n",
       "\n",
       "             outlet.MIN(bigmart.Item_Visibility)  \\\n",
       "id                                                 \n",
       "DRA12OUT010                                  0.0   \n",
       "DRA12OUT013                                  0.0   \n",
       "DRA12OUT017                                  0.0   \n",
       "DRA12OUT018                                  0.0   \n",
       "DRA12OUT027                                  0.0   \n",
       "\n",
       "             outlet.MIN(bigmart.Item_MRP)  outlet.MEAN(bigmart.Item_Weight)  \\\n",
       "id                                                                            \n",
       "DRA12OUT010                       32.6558                         12.722870   \n",
       "DRA12OUT013                       31.4900                         12.788139   \n",
       "DRA12OUT017                       32.0900                         12.782080   \n",
       "DRA12OUT018                       31.8900                         12.803638   \n",
       "DRA12OUT027                       31.2900                         12.792854   \n",
       "\n",
       "             outlet.MEAN(bigmart.Item_Fat_Content)  \\\n",
       "id                                                   \n",
       "DRA12OUT010                               0.356757   \n",
       "DRA12OUT013                               0.353509   \n",
       "DRA12OUT017                               0.352560   \n",
       "DRA12OUT018                               0.353816   \n",
       "DRA12OUT027                               0.353432   \n",
       "\n",
       "             outlet.MEAN(bigmart.Item_Visibility)  \\\n",
       "id                                                  \n",
       "DRA12OUT010                              0.101939   \n",
       "DRA12OUT013                              0.060242   \n",
       "DRA12OUT017                              0.061142   \n",
       "DRA12OUT018                              0.059976   \n",
       "DRA12OUT027                              0.060344   \n",
       "\n",
       "             outlet.MEAN(bigmart.Item_MRP)  outlet.COUNT(bigmart)  \\\n",
       "id                                                                  \n",
       "DRA12OUT010                     141.159742                    925   \n",
       "DRA12OUT013                     141.128428                   1553   \n",
       "DRA12OUT017                     140.998931                   1543   \n",
       "DRA12OUT018                     141.000899                   1546   \n",
       "DRA12OUT027                     141.012347                   1559   \n",
       "\n",
       "             outlet.NUM_UNIQUE(bigmart.Item_Type)  \\\n",
       "id                                                  \n",
       "DRA12OUT010                                    16   \n",
       "DRA12OUT013                                    16   \n",
       "DRA12OUT017                                    16   \n",
       "DRA12OUT018                                    16   \n",
       "DRA12OUT027                                    16   \n",
       "\n",
       "             outlet.MODE(bigmart.Item_Type)  \n",
       "id                                           \n",
       "DRA12OUT010           Fruits and Vegetables  \n",
       "DRA12OUT013           Fruits and Vegetables  \n",
       "DRA12OUT017                     Snack Foods  \n",
       "DRA12OUT018           Fruits and Vegetables  \n",
       "DRA12OUT027           Fruits and Vegetables  \n",
       "\n",
       "[5 rows x 37 columns]"
      ]
     },
     "execution_count": 18,
     "metadata": {},
     "output_type": "execute_result"
    }
   ],
   "source": [
    "feature_matrix.head()"
   ]
  },
  {
   "cell_type": "code",
   "execution_count": 19,
   "metadata": {},
   "outputs": [
    {
     "data": {
      "text/plain": [
       "(14204, 37)"
      ]
     },
     "execution_count": 19,
     "metadata": {},
     "output_type": "execute_result"
    }
   ],
   "source": [
    "feature_matrix.shape"
   ]
  },
  {
   "cell_type": "code",
   "execution_count": 20,
   "metadata": {},
   "outputs": [
    {
     "data": {
      "text/plain": [
       "(14204, 11)"
      ]
     },
     "execution_count": 20,
     "metadata": {},
     "output_type": "execute_result"
    }
   ],
   "source": [
    "combi.shape"
   ]
  },
  {
   "cell_type": "code",
   "execution_count": 21,
   "metadata": {},
   "outputs": [],
   "source": [
    "feature_matrix = feature_matrix.reindex(index=combi['id'])\n",
    "feature_matrix = feature_matrix.reset_index()"
   ]
  },
  {
   "cell_type": "code",
   "execution_count": 23,
   "metadata": {},
   "outputs": [],
   "source": [
    "from catboost import CatBoostRegressor"
   ]
  },
  {
   "cell_type": "code",
   "execution_count": 24,
   "metadata": {},
   "outputs": [],
   "source": [
    "categorical_features = np.where(feature_matrix.dtypes == 'object')[0]\n",
    "\n",
    "for i in categorical_features:\n",
    "    feature_matrix.iloc[:,i] = feature_matrix.iloc[:,i].astype('str')"
   ]
  },
  {
   "cell_type": "code",
   "execution_count": 25,
   "metadata": {},
   "outputs": [],
   "source": [
    "feature_matrix.drop(['id'], axis=1, inplace=True)\n",
    "train = feature_matrix[:8523]\n",
    "test = feature_matrix[8523:]"
   ]
  },
  {
   "cell_type": "code",
   "execution_count": 26,
   "metadata": {},
   "outputs": [],
   "source": [
    "# removing uneccesary variables\n",
    "train.drop(['Outlet_Identifier'], axis=1, inplace=True)\n",
    "test.drop(['Outlet_Identifier'], axis=1, inplace=True)"
   ]
  },
  {
   "cell_type": "code",
   "execution_count": 27,
   "metadata": {},
   "outputs": [],
   "source": [
    "# identifying categorical features\n",
    "categorical_features = np.where(train.dtypes == 'object')[0]"
   ]
  },
  {
   "cell_type": "code",
   "execution_count": 28,
   "metadata": {},
   "outputs": [],
   "source": [
    "from sklearn.model_selection import train_test_split\n",
    "\n",
    "# splitting train data into training and validation set\n",
    "xtrain, xvalid, ytrain, yvalid = train_test_split(train, sales, test_size=0.25, random_state=11)"
   ]
  },
  {
   "cell_type": "code",
   "execution_count": 29,
   "metadata": {},
   "outputs": [
    {
     "name": "stderr",
     "output_type": "stream",
     "text": [
      "You should provide test set for use best model. use_best_model parameter has been switched to false value.\n"
     ]
    },
    {
     "name": "stdout",
     "output_type": "stream",
     "text": [
      "0:\tlearn: 2114.0349213\ttotal: 51.3ms\tremaining: 5.08s\n",
      "1:\tlearn: 1694.3837988\ttotal: 54.1ms\tremaining: 2.65s\n",
      "2:\tlearn: 1435.3408825\ttotal: 56.4ms\tremaining: 1.82s\n",
      "3:\tlearn: 1269.4886376\ttotal: 59.1ms\tremaining: 1.42s\n",
      "4:\tlearn: 1178.5048056\ttotal: 61.8ms\tremaining: 1.17s\n",
      "5:\tlearn: 1131.4452001\ttotal: 63.7ms\tremaining: 998ms\n",
      "6:\tlearn: 1102.5684565\ttotal: 65.9ms\tremaining: 876ms\n",
      "7:\tlearn: 1085.7916969\ttotal: 68.1ms\tremaining: 784ms\n",
      "8:\tlearn: 1075.9854726\ttotal: 70.2ms\tremaining: 710ms\n",
      "9:\tlearn: 1072.0764478\ttotal: 71.7ms\tremaining: 645ms\n",
      "10:\tlearn: 1068.8697223\ttotal: 74ms\tremaining: 599ms\n",
      "11:\tlearn: 1065.2651679\ttotal: 76.2ms\tremaining: 559ms\n",
      "12:\tlearn: 1063.0840724\ttotal: 78.5ms\tremaining: 525ms\n",
      "13:\tlearn: 1061.0904502\ttotal: 80.8ms\tremaining: 496ms\n",
      "14:\tlearn: 1060.1673518\ttotal: 82.9ms\tremaining: 470ms\n",
      "15:\tlearn: 1058.1315761\ttotal: 85.2ms\tremaining: 447ms\n",
      "16:\tlearn: 1056.0664557\ttotal: 87.4ms\tremaining: 427ms\n",
      "17:\tlearn: 1054.8626579\ttotal: 89.6ms\tremaining: 408ms\n",
      "18:\tlearn: 1053.2408135\ttotal: 91.8ms\tremaining: 391ms\n",
      "19:\tlearn: 1052.6517464\ttotal: 94ms\tremaining: 376ms\n",
      "20:\tlearn: 1051.9289082\ttotal: 96.2ms\tremaining: 362ms\n",
      "21:\tlearn: 1050.1023505\ttotal: 98.5ms\tremaining: 349ms\n",
      "22:\tlearn: 1049.5442560\ttotal: 101ms\tremaining: 337ms\n",
      "23:\tlearn: 1048.2893801\ttotal: 103ms\tremaining: 325ms\n",
      "24:\tlearn: 1046.3053007\ttotal: 105ms\tremaining: 315ms\n",
      "25:\tlearn: 1043.6476123\ttotal: 107ms\tremaining: 305ms\n",
      "26:\tlearn: 1041.5286641\ttotal: 109ms\tremaining: 295ms\n",
      "27:\tlearn: 1038.8035054\ttotal: 111ms\tremaining: 286ms\n",
      "28:\tlearn: 1036.8483497\ttotal: 113ms\tremaining: 278ms\n",
      "29:\tlearn: 1035.3038401\ttotal: 116ms\tremaining: 270ms\n",
      "30:\tlearn: 1033.3253838\ttotal: 118ms\tremaining: 262ms\n",
      "31:\tlearn: 1030.5831245\ttotal: 120ms\tremaining: 255ms\n",
      "32:\tlearn: 1029.9984444\ttotal: 122ms\tremaining: 247ms\n",
      "33:\tlearn: 1027.6032042\ttotal: 124ms\tremaining: 241ms\n",
      "34:\tlearn: 1026.3312011\ttotal: 126ms\tremaining: 234ms\n",
      "35:\tlearn: 1025.5239225\ttotal: 128ms\tremaining: 228ms\n",
      "36:\tlearn: 1023.0872638\ttotal: 130ms\tremaining: 222ms\n",
      "37:\tlearn: 1021.9517658\ttotal: 132ms\tremaining: 216ms\n",
      "38:\tlearn: 1020.6824668\ttotal: 135ms\tremaining: 210ms\n",
      "39:\tlearn: 1017.6263711\ttotal: 137ms\tremaining: 205ms\n",
      "40:\tlearn: 1015.7199797\ttotal: 139ms\tremaining: 200ms\n",
      "41:\tlearn: 1013.8158249\ttotal: 141ms\tremaining: 195ms\n",
      "42:\tlearn: 1012.5191303\ttotal: 143ms\tremaining: 190ms\n",
      "43:\tlearn: 1010.2987742\ttotal: 145ms\tremaining: 185ms\n",
      "44:\tlearn: 1009.1001936\ttotal: 147ms\tremaining: 180ms\n",
      "45:\tlearn: 1007.5160329\ttotal: 149ms\tremaining: 175ms\n",
      "46:\tlearn: 1006.6100384\ttotal: 152ms\tremaining: 171ms\n",
      "47:\tlearn: 1005.9567405\ttotal: 154ms\tremaining: 166ms\n",
      "48:\tlearn: 1005.1235811\ttotal: 156ms\tremaining: 162ms\n",
      "49:\tlearn: 1003.8623450\ttotal: 158ms\tremaining: 158ms\n",
      "50:\tlearn: 1002.6515618\ttotal: 160ms\tremaining: 154ms\n",
      "51:\tlearn: 1000.9273555\ttotal: 162ms\tremaining: 150ms\n",
      "52:\tlearn: 998.3418375\ttotal: 164ms\tremaining: 146ms\n",
      "53:\tlearn: 996.7159429\ttotal: 166ms\tremaining: 142ms\n",
      "54:\tlearn: 994.6916999\ttotal: 168ms\tremaining: 138ms\n",
      "55:\tlearn: 993.3008626\ttotal: 171ms\tremaining: 134ms\n",
      "56:\tlearn: 992.8114985\ttotal: 173ms\tremaining: 130ms\n",
      "57:\tlearn: 989.8190383\ttotal: 175ms\tremaining: 127ms\n",
      "58:\tlearn: 988.0330270\ttotal: 177ms\tremaining: 123ms\n",
      "59:\tlearn: 986.9258547\ttotal: 179ms\tremaining: 119ms\n",
      "60:\tlearn: 985.9642568\ttotal: 181ms\tremaining: 116ms\n",
      "61:\tlearn: 985.0746982\ttotal: 185ms\tremaining: 113ms\n",
      "62:\tlearn: 983.8907368\ttotal: 190ms\tremaining: 111ms\n",
      "63:\tlearn: 982.4862160\ttotal: 195ms\tremaining: 110ms\n",
      "64:\tlearn: 981.0875180\ttotal: 200ms\tremaining: 108ms\n",
      "65:\tlearn: 979.5138554\ttotal: 206ms\tremaining: 106ms\n",
      "66:\tlearn: 978.8100499\ttotal: 212ms\tremaining: 104ms\n",
      "67:\tlearn: 977.8432491\ttotal: 217ms\tremaining: 102ms\n",
      "68:\tlearn: 977.6334743\ttotal: 222ms\tremaining: 99.8ms\n",
      "69:\tlearn: 976.7741532\ttotal: 227ms\tremaining: 97.3ms\n",
      "70:\tlearn: 974.7419087\ttotal: 230ms\tremaining: 94.1ms\n",
      "71:\tlearn: 973.7607968\ttotal: 233ms\tremaining: 90.5ms\n",
      "72:\tlearn: 972.4461729\ttotal: 235ms\tremaining: 86.9ms\n",
      "73:\tlearn: 971.5986029\ttotal: 237ms\tremaining: 83.3ms\n",
      "74:\tlearn: 969.9228012\ttotal: 239ms\tremaining: 79.8ms\n",
      "75:\tlearn: 969.3077555\ttotal: 241ms\tremaining: 76.2ms\n",
      "76:\tlearn: 967.9038227\ttotal: 244ms\tremaining: 72.8ms\n",
      "77:\tlearn: 966.5226097\ttotal: 249ms\tremaining: 70.3ms\n",
      "78:\tlearn: 965.4995316\ttotal: 255ms\tremaining: 67.8ms\n",
      "79:\tlearn: 964.3766631\ttotal: 257ms\tremaining: 64.3ms\n",
      "80:\tlearn: 962.8567406\ttotal: 263ms\tremaining: 61.7ms\n",
      "81:\tlearn: 961.7080107\ttotal: 268ms\tremaining: 58.9ms\n",
      "82:\tlearn: 960.0210611\ttotal: 274ms\tremaining: 56.1ms\n",
      "83:\tlearn: 958.8605978\ttotal: 277ms\tremaining: 52.9ms\n",
      "84:\tlearn: 957.8285138\ttotal: 280ms\tremaining: 49.4ms\n",
      "85:\tlearn: 956.3987287\ttotal: 282ms\tremaining: 45.9ms\n",
      "86:\tlearn: 954.3798970\ttotal: 284ms\tremaining: 42.5ms\n",
      "87:\tlearn: 953.3923877\ttotal: 286ms\tremaining: 39.1ms\n",
      "88:\tlearn: 952.5361329\ttotal: 289ms\tremaining: 35.7ms\n",
      "89:\tlearn: 951.1319268\ttotal: 291ms\tremaining: 32.3ms\n",
      "90:\tlearn: 950.1693100\ttotal: 294ms\tremaining: 29ms\n",
      "91:\tlearn: 948.2546684\ttotal: 297ms\tremaining: 25.8ms\n",
      "92:\tlearn: 947.1674986\ttotal: 299ms\tremaining: 22.5ms\n",
      "93:\tlearn: 946.2786504\ttotal: 301ms\tremaining: 19.2ms\n",
      "94:\tlearn: 945.3341047\ttotal: 304ms\tremaining: 16ms\n",
      "95:\tlearn: 943.2324348\ttotal: 306ms\tremaining: 12.7ms\n",
      "96:\tlearn: 941.9194609\ttotal: 308ms\tremaining: 9.53ms\n",
      "97:\tlearn: 940.8572168\ttotal: 310ms\tremaining: 6.33ms\n",
      "98:\tlearn: 939.7888162\ttotal: 312ms\tremaining: 3.15ms\n",
      "99:\tlearn: 938.9765014\ttotal: 315ms\tremaining: 0us\n"
     ]
    },
    {
     "data": {
      "text/plain": [
       "<catboost.core.CatBoostRegressor at 0x7f0c85477090>"
      ]
     },
     "execution_count": 29,
     "metadata": {},
     "output_type": "execute_result"
    }
   ],
   "source": [
    "model_cat = CatBoostRegressor(iterations=100, learning_rate=0.3, depth=6, eval_metric='RMSE', random_seed=7)\n",
    "\n",
    "# training model\n",
    "model_cat.fit(xtrain, ytrain, cat_features=categorical_features, use_best_model=True)"
   ]
  },
  {
   "cell_type": "code",
   "execution_count": 30,
   "metadata": {},
   "outputs": [
    {
     "data": {
      "text/plain": [
       "0.5819656469621548"
      ]
     },
     "execution_count": 30,
     "metadata": {},
     "output_type": "execute_result"
    }
   ],
   "source": [
    "# validation score\n",
    "model_cat.score(xvalid, yvalid)"
   ]
  },
  {
   "cell_type": "code",
   "execution_count": null,
   "metadata": {},
   "outputs": [],
   "source": []
  }
 ],
 "metadata": {
  "kernelspec": {
   "display_name": "Python 3",
   "language": "python",
   "name": "python3"
  },
  "language_info": {
   "codemirror_mode": {
    "name": "ipython",
    "version": 3
   },
   "file_extension": ".py",
   "mimetype": "text/x-python",
   "name": "python",
   "nbconvert_exporter": "python",
   "pygments_lexer": "ipython3",
   "version": "3.7.4"
  }
 },
 "nbformat": 4,
 "nbformat_minor": 2
}
