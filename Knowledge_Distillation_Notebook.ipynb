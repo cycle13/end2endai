{
 "cells": [
  {
   "cell_type": "markdown",
   "metadata": {
    "colab_type": "text",
    "id": "AXtR3INVPcHJ"
   },
   "source": [
    "# Distilling Knowledge in Neural Network\n",
    "\n",
    "The term \"Knowledge Distillation\" (a.k.a Teacher-Student Model) was first introduced by (Bu-cilu et al., 2006; Ba & Caruana,2014) and has been popularized by (Hinton et al., 2015), as a way to let smaller deep learning models learn how bigger ones generalize to large datasets, hence increase the performance of the smaller one. In this notebook, I'll try to explain the idea of knowledge distillation alongside with hands-on implementation of it.\n",
    "\n",
    "# The main idea\n"
   ]
  },
  {
   "cell_type": "markdown",
   "metadata": {
    "colab_type": "text",
    "id": "ce65yuvootlq"
   },
   "source": [
    "# Install and import requirements\n"
   ]
  },
  {
   "cell_type": "code",
   "execution_count": 1,
   "metadata": {
    "colab": {},
    "colab_type": "code",
    "id": "xWnbC2ooAfNf"
   },
   "outputs": [],
   "source": [
    "import tensorflow as tf\n",
    "import matplotlib.pyplot as plt \n",
    "import numpy as np\n",
    "from tensorflow.keras.models import Sequential, load_model, Model\n",
    "from tensorflow.keras.layers import Conv2D,GlobalAveragePooling2D,Dense,Softmax,Flatten,MaxPooling2D,Dropout,Activation, Lambda, concatenate\n",
    "from tensorflow.keras.callbacks import ModelCheckpoint\n",
    "from tensorflow.keras.losses import kullback_leibler_divergence as KLD_Loss, categorical_crossentropy as logloss\n",
    "from tensorflow.keras.utils import to_categorical\n",
    "from tensorflow.keras.metrics import categorical_accuracy\n",
    "import seaborn as sns"
   ]
  },
  {
   "cell_type": "markdown",
   "metadata": {
    "colab_type": "text",
    "id": "2wQvkPoB7Cnr"
   },
   "source": [
    "#  Load and preprocess the data"
   ]
  },
  {
   "cell_type": "code",
   "execution_count": 2,
   "metadata": {
    "colab": {
     "base_uri": "https://localhost:8080/",
     "height": 34
    },
    "colab_type": "code",
    "id": "N4nKTacmAjXh",
    "outputId": "9212669a-2d36-4b8d-8d04-18529cff753f"
   },
   "outputs": [
    {
     "name": "stdout",
     "output_type": "stream",
     "text": [
      "Downloading data from https://www.cs.toronto.edu/~kriz/cifar-10-python.tar.gz\n",
      "170500096/170498071 [==============================] - 193s 1us/step\n",
      "x_train shape: (50000, 32, 32, 3) y_train shape: (50000, 1)\n"
     ]
    }
   ],
   "source": [
    "NUM_CLASSES = 10\n",
    "(x_train, y_train), (x_test, y_test) = tf.keras.datasets.cifar10.load_data()\n",
    "print(\"x_train shape:\", x_train.shape, \"y_train shape:\", y_train.shape)\n",
    "\n",
    "# Normalize the dataset\n",
    "x_train = x_train.astype('float32') / 255\n",
    "x_test = x_test.astype('float32') / 255\n",
    "\n",
    "# Reshape each example to WIDTH*HEIGHT*CHANNELS for Convolution operation\n",
    "# x_test = x_test.reshape(-1,,28,1)\n",
    "# x_train = x_train.reshape(-1,28,28,1)\n"
   ]
  },
  {
   "cell_type": "markdown",
   "metadata": {
    "colab_type": "text",
    "id": "rYDhVMdU7dWN"
   },
   "source": [
    "# Create teacher model"
   ]
  },
  {
   "cell_type": "code",
   "execution_count": 3,
   "metadata": {
    "colab": {
     "base_uri": "https://localhost:8080/",
     "height": 558
    },
    "colab_type": "code",
    "id": "B_EpiY-nA8u6",
    "outputId": "f544b054-5860-467b-f271-01b4a5c1f9c8"
   },
   "outputs": [
    {
     "name": "stdout",
     "output_type": "stream",
     "text": [
      "_________________________________________________________________\n",
      "Layer (type)                 Output Shape              Param #   \n",
      "=================================================================\n",
      "conv2d (Conv2D)              (None, 32, 32, 32)        416       \n",
      "_________________________________________________________________\n",
      "max_pooling2d (MaxPooling2D) (None, 16, 16, 32)        0         \n",
      "_________________________________________________________________\n",
      "conv2d_1 (Conv2D)            (None, 16, 16, 64)        8256      \n",
      "_________________________________________________________________\n",
      "max_pooling2d_1 (MaxPooling2 (None, 8, 8, 64)          0         \n",
      "_________________________________________________________________\n",
      "flatten (Flatten)            (None, 4096)              0         \n",
      "_________________________________________________________________\n",
      "dense (Dense)                (None, 256)               1048832   \n",
      "_________________________________________________________________\n",
      "dropout (Dropout)            (None, 256)               0         \n",
      "_________________________________________________________________\n",
      "dense_1 (Dense)              (None, 10)                2570      \n",
      "_________________________________________________________________\n",
      "activation (Activation)      (None, 10)                0         \n",
      "=================================================================\n",
      "Total params: 1,060,074\n",
      "Trainable params: 1,060,074\n",
      "Non-trainable params: 0\n",
      "_________________________________________________________________\n"
     ]
    }
   ],
   "source": [
    "Teacher = Sequential() # Must define the input shape in the first layer of the neural network\n",
    "Teacher.add(Conv2D(filters=32, kernel_size=2, padding='same', activation='relu', input_shape=(32,32,3)))\n",
    "Teacher.add(MaxPooling2D(pool_size=2))\n",
    "Teacher.add(Conv2D(filters=64, kernel_size=2, padding='same', activation='relu'))\n",
    "Teacher.add(MaxPooling2D(pool_size=2))\n",
    "Teacher.add(Flatten())\n",
    "Teacher.add(Dense(256, activation='relu'))\n",
    "Teacher.add(Dropout(0.5))\n",
    "Teacher.add(Dense(10))\n",
    "Teacher.add(Activation('softmax'))\n",
    "\n",
    "Teacher.compile(loss='sparse_categorical_crossentropy',\n",
    "             optimizer='adam',\n",
    "             metrics=['accuracy'])\n",
    "\n",
    "# Take a look at the model summary\n",
    "\n",
    "Teacher.summary()"
   ]
  },
  {
   "cell_type": "code",
   "execution_count": 4,
   "metadata": {
    "colab": {
     "base_uri": "https://localhost:8080/",
     "height": 746
    },
    "colab_type": "code",
    "id": "WEcS4uUpBD6Q",
    "outputId": "5fdb3c87-789e-40e7-ac94-9608612ea211"
   },
   "outputs": [
    {
     "name": "stdout",
     "output_type": "stream",
     "text": [
      "Train on 40000 samples, validate on 10000 samples\n",
      "Epoch 1/20\n",
      "40000/40000 [==============================] - 23s 571us/step - loss: 1.6786 - acc: 0.3916 - val_loss: 1.3790 - val_acc: 0.5087\n",
      "Epoch 2/20\n",
      "40000/40000 [==============================] - 5s 126us/step - loss: 1.3439 - acc: 0.5177 - val_loss: 1.2016 - val_acc: 0.5846\n",
      "Epoch 3/20\n",
      "40000/40000 [==============================] - 5s 123us/step - loss: 1.2100 - acc: 0.5691 - val_loss: 1.0953 - val_acc: 0.6160\n",
      "Epoch 4/20\n",
      "40000/40000 [==============================] - 5s 124us/step - loss: 1.1184 - acc: 0.6003 - val_loss: 1.0626 - val_acc: 0.6254\n",
      "Epoch 5/20\n",
      "40000/40000 [==============================] - 5s 122us/step - loss: 1.0444 - acc: 0.6305 - val_loss: 1.0002 - val_acc: 0.6543\n",
      "Epoch 6/20\n",
      "40000/40000 [==============================] - 5s 124us/step - loss: 0.9924 - acc: 0.6484 - val_loss: 0.9611 - val_acc: 0.6676\n",
      "Epoch 7/20\n",
      "40000/40000 [==============================] - 5s 123us/step - loss: 0.9396 - acc: 0.6671 - val_loss: 0.9325 - val_acc: 0.6767\n",
      "Epoch 8/20\n",
      "40000/40000 [==============================] - 5s 123us/step - loss: 0.8946 - acc: 0.6842 - val_loss: 0.9333 - val_acc: 0.6767\n",
      "Epoch 9/20\n",
      "40000/40000 [==============================] - 5s 125us/step - loss: 0.8589 - acc: 0.6975 - val_loss: 0.9054 - val_acc: 0.6841\n",
      "Epoch 10/20\n",
      "40000/40000 [==============================] - 5s 123us/step - loss: 0.8154 - acc: 0.7112 - val_loss: 0.8633 - val_acc: 0.7026\n",
      "Epoch 11/20\n",
      "40000/40000 [==============================] - 5s 123us/step - loss: 0.7813 - acc: 0.7245 - val_loss: 0.8709 - val_acc: 0.6982\n",
      "Epoch 12/20\n",
      "40000/40000 [==============================] - 5s 123us/step - loss: 0.7435 - acc: 0.7359 - val_loss: 0.8583 - val_acc: 0.7036\n",
      "Epoch 13/20\n",
      "40000/40000 [==============================] - 5s 124us/step - loss: 0.7149 - acc: 0.7469 - val_loss: 0.8388 - val_acc: 0.7126\n",
      "Epoch 14/20\n",
      "40000/40000 [==============================] - 5s 120us/step - loss: 0.6822 - acc: 0.7557 - val_loss: 0.8493 - val_acc: 0.7120\n",
      "Epoch 15/20\n",
      "40000/40000 [==============================] - 5s 124us/step - loss: 0.6597 - acc: 0.7651 - val_loss: 0.8344 - val_acc: 0.7181\n",
      "Epoch 16/20\n",
      "40000/40000 [==============================] - 5s 126us/step - loss: 0.6255 - acc: 0.7774 - val_loss: 0.8466 - val_acc: 0.7196\n",
      "Epoch 17/20\n",
      "40000/40000 [==============================] - 5s 122us/step - loss: 0.5965 - acc: 0.7885 - val_loss: 0.8503 - val_acc: 0.7197\n",
      "Epoch 18/20\n",
      "40000/40000 [==============================] - 5s 121us/step - loss: 0.5719 - acc: 0.7959 - val_loss: 0.8687 - val_acc: 0.7189\n",
      "Epoch 19/20\n",
      "40000/40000 [==============================] - 5s 121us/step - loss: 0.5433 - acc: 0.8060 - val_loss: 0.8580 - val_acc: 0.7166\n",
      "Epoch 20/20\n",
      "40000/40000 [==============================] - 5s 123us/step - loss: 0.5177 - acc: 0.8145 - val_loss: 0.8577 - val_acc: 0.7263\n"
     ]
    },
    {
     "data": {
      "text/plain": [
       "<tensorflow.python.keras.callbacks.History at 0x7f0e7d7f8438>"
      ]
     },
     "execution_count": 4,
     "metadata": {},
     "output_type": "execute_result"
    }
   ],
   "source": [
    "myCP = ModelCheckpoint(save_best_only=True,filepath='teacher.h5',monitor = 'val_acc')\n",
    "Teacher.fit(x_train,\n",
    "         y_train,\n",
    "         batch_size=128,\n",
    "         epochs=20,\n",
    "         validation_split = 0.2,\n",
    "         callbacks=[myCP])"
   ]
  },
  {
   "cell_type": "code",
   "execution_count": 5,
   "metadata": {
    "colab": {
     "base_uri": "https://localhost:8080/",
     "height": 176
    },
    "colab_type": "code",
    "id": "ivHJ880q7xhy",
    "outputId": "f3c17df4-7e3b-44e7-c19e-dad60bc255bb"
   },
   "outputs": [
    {
     "name": "stdout",
     "output_type": "stream",
     "text": [
      "10000/10000 [==============================] - 1s 74us/step\n"
     ]
    },
    {
     "data": {
      "text/plain": [
       "[0.8557168321609497, 0.7213]"
      ]
     },
     "execution_count": 5,
     "metadata": {},
     "output_type": "execute_result"
    }
   ],
   "source": [
    "# Retrieve best model from saved\n",
    "Teacher = load_model('teacher.h5')\n",
    "\n",
    "# Evaluation with test set\n",
    "Teacher.evaluate(x_test,y_test)"
   ]
  },
  {
   "cell_type": "markdown",
   "metadata": {
    "colab_type": "text",
    "id": "ppnopnPM6DE1"
   },
   "source": [
    "# Understand temperature"
   ]
  },
  {
   "cell_type": "code",
   "execution_count": 6,
   "metadata": {
    "colab": {
     "base_uri": "https://localhost:8080/",
     "height": 729
    },
    "colab_type": "code",
    "id": "IgGxH0YOBGLm",
    "outputId": "58104de8-fe67-49e9-ef12-c2a5f76ad0a0"
   },
   "outputs": [
    {
     "data": {
      "image/png": "[encoded data removed]",
      "text/plain": [
       "<Figure size 432x288 with 1 Axes>"
      ]
     },
     "metadata": {
      "needs_background": "light"
     },
     "output_type": "display_data"
    },
    {
     "data": {
      "text/plain": [
       "<Figure size 1008x432 with 0 Axes>"
      ]
     },
     "metadata": {},
     "output_type": "display_data"
    },
    {
     "data": {
      "text/plain": [
       "<Figure size 1008x432 with 0 Axes>"
      ]
     },
     "metadata": {},
     "output_type": "display_data"
    },
    {
     "data": {
      "text/plain": [
       "<Figure size 1008x432 with 0 Axes>"
      ]
     },
     "metadata": {},
     "output_type": "display_data"
    },
    {
     "data": {
      "text/plain": [
       "<Figure size 1008x432 with 0 Axes>"
      ]
     },
     "metadata": {},
     "output_type": "display_data"
    },
    {
     "data": {
      "text/plain": [
       "<Figure size 1008x432 with 0 Axes>"
      ]
     },
     "metadata": {},
     "output_type": "display_data"
    },
    {
     "data": {
      "image/png": "[encoded data removed]",
      "text/plain": [
       "<Figure size 1008x432 with 1 Axes>"
      ]
     },
     "metadata": {
      "needs_background": "light"
     },
     "output_type": "display_data"
    }
   ],
   "source": [
    "Teacher_logits = Model(Teacher.input,Teacher.layers[-2].output)\n",
    "\n",
    "logits_plot = []\n",
    "\n",
    "class_names = [\"airplane\",\"automobile\",\"bird\",\"cat\",\"deer\",\"dog\",\"frog\",\"horse\",\"ship\",\"truck\"]\t\t\t\t\t\t\t\t\t\t\n",
    "\n",
    "\n",
    "# Choose the item to visualize temperature\n",
    "item_idx = 7\n",
    "\n",
    "item_image = x_train[item_idx]\n",
    "\n",
    "plt.imshow(item_image)\n",
    "\n",
    "Temperatures = [1,5,10,20,35,50]\n",
    "\n",
    "\n",
    "for Temperature in Temperatures:\n",
    "  # Create temperature layer that produces logits with temperature\n",
    "  T_layer = Lambda(lambda x:x/Temperature)(Teacher_logits.output)\n",
    "  \n",
    "  # Create a softmax layer\n",
    "  Softmax_layer = Softmax()(T_layer)\n",
    "  # Add the teacher T_layer to the whole model\n",
    "  Teacher_logits_soften = Model(Teacher.input,Softmax_layer)\n",
    "                             \n",
    "  # Append for plotting\n",
    "  logits_plot.append(Teacher_logits_soften.predict(np.array([item_image])))\n",
    "  \n",
    "  plt.figure(figsize=(14, 6))\n",
    "for i in range(len(Temperatures)):\n",
    "  sns.lineplot(class_names,logits_plot[i][0],legend=\"full\")\n",
    "  plt.title('This is a '+ class_names[y_train[item_idx][0]])\n",
    "  plt.legend(Temperatures,title=\"Temperatures\")"
   ]
  },
  {
   "cell_type": "markdown",
   "metadata": {
    "colab_type": "text",
    "id": "VC7j3YBUWe_2"
   },
   "source": [
    "# Create a teacher model that create softened output\n",
    "As mentioned in **Hinton's paper**:  \"When the distilled net had 300 or more units in each of its two hidden layers, all temperatures above gave fairly similar results. But when this was radically reduced to 30 units per layer, temperatures in the range 2.5 to 4 worked significantly better than high or lower temperatures.\"  \n",
    "In this notebook, I'll use temperature **3.25**, feel free to change to the Temperature to any number of your interest."
   ]
  },
  {
   "cell_type": "code",
   "execution_count": 7,
   "metadata": {
    "colab": {},
    "colab_type": "code",
    "id": "RG0cEG8GRZm0"
   },
   "outputs": [],
   "source": [
    "Temperature = 3.25\n",
    "T_layer = Lambda(lambda x:x/Temperature)(Teacher_logits.output)\n",
    "Softmax_layer = Activation('softmax')(T_layer)\n",
    "Teacher_soften = Model(Teacher.input,Softmax_layer)"
   ]
  },
  {
   "cell_type": "code",
   "execution_count": 8,
   "metadata": {
    "colab": {},
    "colab_type": "code",
    "id": "5eS3Z8rBWY3a"
   },
   "outputs": [],
   "source": [
    "# Predict and convert to sparse categorical matrix\n",
    "y_train_new = Teacher_soften.predict(x_train)\n",
    "y_test_new = Teacher_soften.predict(x_test)\n",
    "\n",
    "y_train_new = np.c_[to_categorical(y_train),y_train_new]\n",
    "y_test_new = np.c_[to_categorical(y_test),y_test_new]"
   ]
  },
  {
   "cell_type": "markdown",
   "metadata": {
    "colab_type": "text",
    "id": "C0wHj1lobBaa"
   },
   "source": [
    "# Create a student model that produces with and without soften output"
   ]
  },
  {
   "cell_type": "markdown",
   "metadata": {
    "colab_type": "text",
    "id": "sgDCsYaxC0Zv"
   },
   "source": [
    "The student model we'll in this notebook is a really shallow neural network with only 1 hidden layers with 64 units, followed by a 10 softmax unit for the output"
   ]
  },
  {
   "cell_type": "code",
   "execution_count": 9,
   "metadata": {
    "colab": {
     "base_uri": "https://localhost:8080/",
     "height": 260
    },
    "colab_type": "code",
    "id": "cCOh7PFP6fPV",
    "outputId": "d10b2c8e-13e9-4f0d-9815-37c08bff6429"
   },
   "outputs": [
    {
     "name": "stdout",
     "output_type": "stream",
     "text": [
      "_________________________________________________________________\n",
      "Layer (type)                 Output Shape              Param #   \n",
      "=================================================================\n",
      "flatten_1 (Flatten)          (None, 3072)              0         \n",
      "_________________________________________________________________\n",
      "dense_2 (Dense)              (None, 64)                196672    \n",
      "_________________________________________________________________\n",
      "dense_3 (Dense)              (None, 10)                650       \n",
      "=================================================================\n",
      "Total params: 197,322\n",
      "Trainable params: 197,322\n",
      "Non-trainable params: 0\n",
      "_________________________________________________________________\n"
     ]
    }
   ],
   "source": [
    "Student = Sequential() #a Must define the input shape in the first layer of the neural network\n",
    "Student.add(Flatten(input_shape=(32,32,3)))\n",
    "Student.add(Dense(64, activation='relu'))\n",
    "Student.add(Dense(10))\n",
    "Student.summary()"
   ]
  },
  {
   "cell_type": "code",
   "execution_count": 10,
   "metadata": {
    "colab": {},
    "colab_type": "code",
    "id": "2ic-g-z1ODuY"
   },
   "outputs": [],
   "source": [
    "student_logits = Student.layers[-1].output\n",
    "\n",
    "# Compute softmax\n",
    "probs = Activation(\"softmax\")(student_logits)\n",
    "\n",
    "# Compute softmax with softened logits\n",
    "logits_T = Lambda(lambda x:x/Temperature)(student_logits)\n",
    "probs_T = Activation(\"softmax\")(logits_T)\n",
    "\n",
    "CombinedLayers = concatenate([probs,probs_T])\n",
    "\n",
    "StudentModel = Model(Student.input,CombinedLayers)"
   ]
  },
  {
   "cell_type": "markdown",
   "metadata": {
    "colab_type": "text",
    "id": "Bs3G-pvGOOFE"
   },
   "source": [
    "<center><img src=\"https://nervanasystems.github.io/distiller/imgs/knowledge_distillation.png\" width=500></center>\n",
    "<center> "
   ]
  },
  {
   "cell_type": "markdown",
   "metadata": {
    "colab_type": "text",
    "id": "kpXESRefDGtb"
   },
   "source": [
    "$$ \\text{Let } a_{t}  \\text{ and } a_{s} \\text{ be the logits (the inputs to the final softmax) of the teacher and student network, respectively, with the ground-truth label } y_{r} .\\text{ We calculate the cross-entropy between the softmax} (a_{s},y_{r}) \\text{ and } y_{r} \\text{ as follow:}$$\n",
    "$$ \\mathcal{L}_{SL}=\\mathcal{H}(\\text{softmax}(a_{s},y_{r})) $$\n",
    "\n",
    "$$ \\text{In knowledge distillation (in all 3 papers), we tries to match the softened outputs of the student } y_{s} = \\text{softmax}(a_{s}/\\mathcal{T})   \\text{ and teacher's softened outputs }  y_{t}=\\text{softmax}(a_{t}/\\mathcal{T}) \\text{via a KL-divergence loss}$$\n",
    "$$\\mathcal{L}_{KD}=\\mathcal{T}^2\\text{KL}(y_{s},y_{t})$$ \n",
    "$$ \\text{The student model will then be trained on a \"combined\" loss between } \\mathcal{L}_{SL} \\text{ and } \\mathcal{L}_{KD} \\text{ with } \\lambda \\text{ representing the trade off of 2 losses }$$\n",
    "$$\\mathcal{L}_{\\text{student}} = \\lambda\\mathcal{L}_{SL} + (1-\\lambda)\\mathcal{L}_{KD}$$"
   ]
  },
  {
   "cell_type": "code",
   "execution_count": 11,
   "metadata": {
    "colab": {},
    "colab_type": "code",
    "id": "n2-QsDZ5jtA8"
   },
   "outputs": [],
   "source": [
    "def KD_loss(y_true,y_pred,lambd=0.5,T=10.0):\n",
    "  y_true,y_true_KD = y_true[:,:NUM_CLASSES],y_true[:,NUM_CLASSES:]\n",
    "  y_pred,y_pred_KD = y_pred[:,:NUM_CLASSES],y_pred[:,NUM_CLASSES:]\n",
    "  # Classic cross-entropy (without temperature)\n",
    "  CE_loss = logloss(y_true,y_pred)\n",
    "  # KL-Divergence loss for softened output (with temperature)\n",
    "  KL_loss = T**2*KLD_Loss(y_true_KD,y_pred_KD)\n",
    "  \n",
    "  return lambd*CE_loss + (1-lambd)*KL_loss\n",
    "\n",
    "def accuracy(y_true,y_pred):\n",
    "  return categorical_accuracy(y_true,y_pred)\n",
    "  "
   ]
  },
  {
   "cell_type": "code",
   "execution_count": 12,
   "metadata": {
    "colab": {},
    "colab_type": "code",
    "id": "0pbswIyRhYUG"
   },
   "outputs": [],
   "source": [
    "StudentModel.compile(optimizer='adam',loss=lambda y_true,y_pred: KD_loss(y_true, y_pred,lambd=0.5,T=Temperature),metrics=[accuracy])"
   ]
  },
  {
   "cell_type": "code",
   "execution_count": 13,
   "metadata": {
    "colab": {
     "base_uri": "https://localhost:8080/",
     "height": 1000
    },
    "colab_type": "code",
    "id": "am0Ufoz6jc3-",
    "outputId": "11ed429d-11db-4e79-a12e-99a9510dbb91"
   },
   "outputs": [
    {
     "name": "stdout",
     "output_type": "stream",
     "text": [
      "Train on 42500 samples, validate on 7500 samples\n",
      "Epoch 1/50\n",
      "42500/42500 [==============================] - 2s 55us/step - loss: 4.1497 - accuracy: 0.3148 - val_loss: 3.7495 - val_accuracy: 0.3368\n",
      "Epoch 2/50\n",
      "42500/42500 [==============================] - 2s 37us/step - loss: 3.7171 - accuracy: 0.3693 - val_loss: 3.4784 - val_accuracy: 0.3661\n",
      "Epoch 3/50\n",
      "42500/42500 [==============================] - 2s 37us/step - loss: 3.5289 - accuracy: 0.3874 - val_loss: 3.3428 - val_accuracy: 0.3708\n",
      "Epoch 4/50\n",
      "42500/42500 [==============================] - 2s 37us/step - loss: 3.3878 - accuracy: 0.3974 - val_loss: 3.2587 - val_accuracy: 0.3841\n",
      "Epoch 5/50\n",
      "42500/42500 [==============================] - 2s 38us/step - loss: 3.2855 - accuracy: 0.4061 - val_loss: 3.1652 - val_accuracy: 0.4003\n",
      "Epoch 6/50\n",
      "42500/42500 [==============================] - 2s 37us/step - loss: 3.2144 - accuracy: 0.4183 - val_loss: 3.2234 - val_accuracy: 0.3905\n",
      "Epoch 7/50\n",
      "42500/42500 [==============================] - 2s 37us/step - loss: 3.1306 - accuracy: 0.4268 - val_loss: 3.0411 - val_accuracy: 0.4108\n",
      "Epoch 8/50\n",
      "42500/42500 [==============================] - 2s 36us/step - loss: 3.0734 - accuracy: 0.4335 - val_loss: 2.9853 - val_accuracy: 0.4153\n",
      "Epoch 9/50\n",
      "42500/42500 [==============================] - 2s 37us/step - loss: 3.0273 - accuracy: 0.4368 - val_loss: 3.0593 - val_accuracy: 0.4079\n",
      "Epoch 10/50\n",
      "42500/42500 [==============================] - 2s 37us/step - loss: 2.9794 - accuracy: 0.4425 - val_loss: 3.1514 - val_accuracy: 0.4123\n",
      "Epoch 11/50\n",
      "42500/42500 [==============================] - 2s 37us/step - loss: 2.9812 - accuracy: 0.4422 - val_loss: 2.9897 - val_accuracy: 0.4183\n",
      "Epoch 12/50\n",
      "42500/42500 [==============================] - 2s 37us/step - loss: 2.9225 - accuracy: 0.4487 - val_loss: 2.9244 - val_accuracy: 0.4217\n",
      "Epoch 13/50\n",
      "42500/42500 [==============================] - 2s 37us/step - loss: 2.9000 - accuracy: 0.4505 - val_loss: 2.9100 - val_accuracy: 0.4273\n",
      "Epoch 14/50\n",
      "42500/42500 [==============================] - 2s 37us/step - loss: 2.8613 - accuracy: 0.4555 - val_loss: 2.9717 - val_accuracy: 0.4207\n",
      "Epoch 15/50\n",
      "42500/42500 [==============================] - 2s 37us/step - loss: 2.8512 - accuracy: 0.4557 - val_loss: 3.0619 - val_accuracy: 0.3967\n",
      "Epoch 16/50\n",
      "42500/42500 [==============================] - 2s 37us/step - loss: 2.8282 - accuracy: 0.4579 - val_loss: 2.7895 - val_accuracy: 0.4364\n",
      "Epoch 17/50\n",
      "42500/42500 [==============================] - 2s 36us/step - loss: 2.8178 - accuracy: 0.4592 - val_loss: 3.0120 - val_accuracy: 0.4151\n",
      "Epoch 18/50\n",
      "42500/42500 [==============================] - 2s 37us/step - loss: 2.8007 - accuracy: 0.4601 - val_loss: 2.8038 - val_accuracy: 0.4367\n",
      "Epoch 19/50\n",
      "42500/42500 [==============================] - 2s 37us/step - loss: 2.7690 - accuracy: 0.4649 - val_loss: 2.8918 - val_accuracy: 0.4283\n",
      "Epoch 20/50\n",
      "42500/42500 [==============================] - 2s 37us/step - loss: 2.7527 - accuracy: 0.4669 - val_loss: 2.7505 - val_accuracy: 0.4399\n",
      "Epoch 21/50\n",
      "42500/42500 [==============================] - 2s 37us/step - loss: 2.7496 - accuracy: 0.4645 - val_loss: 2.8582 - val_accuracy: 0.4317\n",
      "Epoch 22/50\n",
      "42500/42500 [==============================] - 2s 37us/step - loss: 2.7579 - accuracy: 0.4657 - val_loss: 2.9147 - val_accuracy: 0.4235\n",
      "Epoch 23/50\n",
      "42500/42500 [==============================] - 2s 37us/step - loss: 2.7176 - accuracy: 0.4709 - val_loss: 2.7460 - val_accuracy: 0.4468\n",
      "Epoch 24/50\n",
      "42500/42500 [==============================] - 2s 37us/step - loss: 2.6958 - accuracy: 0.4727 - val_loss: 2.9699 - val_accuracy: 0.4116\n",
      "Epoch 25/50\n",
      "42500/42500 [==============================] - 2s 36us/step - loss: 2.6933 - accuracy: 0.4726 - val_loss: 2.7435 - val_accuracy: 0.4401\n",
      "Epoch 26/50\n",
      "42500/42500 [==============================] - 2s 37us/step - loss: 2.6873 - accuracy: 0.4735 - val_loss: 2.7564 - val_accuracy: 0.4415\n",
      "Epoch 27/50\n",
      "42500/42500 [==============================] - 2s 36us/step - loss: 2.6662 - accuracy: 0.4754 - val_loss: 2.7679 - val_accuracy: 0.4440\n",
      "Epoch 28/50\n",
      "42500/42500 [==============================] - 2s 37us/step - loss: 2.6754 - accuracy: 0.4754 - val_loss: 2.6526 - val_accuracy: 0.4583\n",
      "Epoch 29/50\n",
      "42500/42500 [==============================] - 2s 37us/step - loss: 2.6349 - accuracy: 0.4791 - val_loss: 3.0090 - val_accuracy: 0.4265\n",
      "Epoch 30/50\n",
      "42500/42500 [==============================] - 2s 39us/step - loss: 2.6592 - accuracy: 0.4767 - val_loss: 2.9925 - val_accuracy: 0.4291\n",
      "Epoch 31/50\n",
      "42500/42500 [==============================] - 2s 39us/step - loss: 2.6410 - accuracy: 0.4791 - val_loss: 2.8287 - val_accuracy: 0.4359\n",
      "Epoch 32/50\n",
      "42500/42500 [==============================] - 2s 37us/step - loss: 2.6289 - accuracy: 0.4802 - val_loss: 2.7284 - val_accuracy: 0.4383\n",
      "Epoch 33/50\n",
      "42500/42500 [==============================] - 2s 37us/step - loss: 2.6228 - accuracy: 0.4806 - val_loss: 2.7812 - val_accuracy: 0.4364\n",
      "Epoch 34/50\n",
      "42500/42500 [==============================] - 2s 37us/step - loss: 2.6212 - accuracy: 0.4815 - val_loss: 2.6968 - val_accuracy: 0.4507\n",
      "Epoch 35/50\n",
      "42500/42500 [==============================] - 2s 37us/step - loss: 2.6014 - accuracy: 0.4849 - val_loss: 2.6810 - val_accuracy: 0.4527\n",
      "Epoch 36/50\n",
      "42500/42500 [==============================] - 2s 37us/step - loss: 2.5800 - accuracy: 0.4884 - val_loss: 2.6939 - val_accuracy: 0.4529\n",
      "Epoch 37/50\n",
      "42500/42500 [==============================] - 2s 37us/step - loss: 2.5895 - accuracy: 0.4844 - val_loss: 2.6283 - val_accuracy: 0.4616\n",
      "Epoch 38/50\n",
      "42500/42500 [==============================] - 2s 37us/step - loss: 2.5732 - accuracy: 0.4880 - val_loss: 3.9325 - val_accuracy: 0.3840\n",
      "Epoch 39/50\n",
      "42500/42500 [==============================] - 2s 37us/step - loss: 2.6140 - accuracy: 0.4817 - val_loss: 2.7541 - val_accuracy: 0.4452\n",
      "Epoch 40/50\n",
      "42500/42500 [==============================] - 2s 37us/step - loss: 2.5701 - accuracy: 0.4893 - val_loss: 2.8904 - val_accuracy: 0.4339\n",
      "Epoch 41/50\n",
      "42500/42500 [==============================] - 2s 37us/step - loss: 2.5500 - accuracy: 0.4908 - val_loss: 2.7225 - val_accuracy: 0.4529\n",
      "Epoch 42/50\n",
      "42500/42500 [==============================] - 2s 36us/step - loss: 2.5483 - accuracy: 0.4903 - val_loss: 2.6768 - val_accuracy: 0.4543\n",
      "Epoch 43/50\n",
      "42500/42500 [==============================] - 2s 37us/step - loss: 2.5433 - accuracy: 0.4906 - val_loss: 2.6768 - val_accuracy: 0.4607\n",
      "Epoch 44/50\n",
      "42500/42500 [==============================] - 2s 37us/step - loss: 2.5431 - accuracy: 0.4913 - val_loss: 2.6596 - val_accuracy: 0.4511\n",
      "Epoch 45/50\n",
      "42500/42500 [==============================] - 2s 38us/step - loss: 2.5364 - accuracy: 0.4905 - val_loss: 2.6739 - val_accuracy: 0.4540\n",
      "Epoch 46/50\n",
      "42500/42500 [==============================] - 2s 37us/step - loss: 2.5249 - accuracy: 0.4941 - val_loss: 2.8932 - val_accuracy: 0.4369\n",
      "Epoch 47/50\n",
      "42500/42500 [==============================] - 2s 37us/step - loss: 2.5402 - accuracy: 0.4911 - val_loss: 2.6903 - val_accuracy: 0.4592\n",
      "Epoch 48/50\n",
      "42500/42500 [==============================] - 2s 37us/step - loss: 2.5209 - accuracy: 0.4954 - val_loss: 3.0995 - val_accuracy: 0.4196\n",
      "Epoch 49/50\n",
      "42500/42500 [==============================] - 2s 36us/step - loss: 2.5888 - accuracy: 0.4857 - val_loss: 2.7823 - val_accuracy: 0.4487\n",
      "Epoch 50/50\n",
      "42500/42500 [==============================] - 2s 37us/step - loss: 2.5110 - accuracy: 0.4963 - val_loss: 2.7320 - val_accuracy: 0.4372\n"
     ]
    },
    {
     "data": {
      "text/plain": [
       "<tensorflow.python.keras.callbacks.History at 0x7f0e7c6df080>"
      ]
     },
     "execution_count": 13,
     "metadata": {},
     "output_type": "execute_result"
    }
   ],
   "source": [
    "myCP = ModelCheckpoint(save_best_only=True,filepath='student.h5',monitor = 'val_accuracy')\n",
    "\n",
    "StudentModel.fit(x_train,y_train_new,epochs=50,validation_split=0.15,batch_size=128,callbacks=[myCP])"
   ]
  },
  {
   "cell_type": "code",
   "execution_count": 14,
   "metadata": {
    "colab": {
     "base_uri": "https://localhost:8080/",
     "height": 52
    },
    "colab_type": "code",
    "id": "-QujVzs7rRxN",
    "outputId": "f6fd2c26-101c-4e18-9e16-73af89d0a024"
   },
   "outputs": [
    {
     "name": "stdout",
     "output_type": "stream",
     "text": [
      "50000/50000 [==============================] - 2s 41us/step\n"
     ]
    },
    {
     "data": {
      "text/plain": [
       "[2.5381335570526122, 0.48936]"
      ]
     },
     "execution_count": 14,
     "metadata": {},
     "output_type": "execute_result"
    }
   ],
   "source": [
    "StudentModel.load_weights('student.h5')\n",
    "StudentModel.evaluate(x_train,y_train_new)\n"
   ]
  },
  {
   "cell_type": "markdown",
   "metadata": {
    "colab_type": "text",
    "id": "1k5LsqTWzh56"
   },
   "source": [
    "# Create a standalone student"
   ]
  },
  {
   "cell_type": "code",
   "execution_count": 15,
   "metadata": {
    "colab": {
     "base_uri": "https://localhost:8080/",
     "height": 260
    },
    "colab_type": "code",
    "id": "vfInFTnqr6Yg",
    "outputId": "0871bbcb-d3e7-4946-bee7-acfe901c7648"
   },
   "outputs": [
    {
     "name": "stdout",
     "output_type": "stream",
     "text": [
      "_________________________________________________________________\n",
      "Layer (type)                 Output Shape              Param #   \n",
      "=================================================================\n",
      "flatten_2 (Flatten)          (None, 3072)              0         \n",
      "_________________________________________________________________\n",
      "dense_4 (Dense)              (None, 64)                196672    \n",
      "_________________________________________________________________\n",
      "dense_5 (Dense)              (None, 10)                650       \n",
      "=================================================================\n",
      "Total params: 197,322\n",
      "Trainable params: 197,322\n",
      "Non-trainable params: 0\n",
      "_________________________________________________________________\n"
     ]
    }
   ],
   "source": [
    "AloneModel = Sequential() #a Must define the input shape in the first layer of the neural netAloneStudent = Sequential() #a Must define the input shape in the first layer of the neural network\n",
    "AloneModel.add(Flatten(input_shape=(32,32,3)))\n",
    "AloneModel.add(Dense(64, activation='relu'))\n",
    "AloneModel.add(Dense(10,activation=\"softmax\"))\n",
    "AloneModel.summary()"
   ]
  },
  {
   "cell_type": "code",
   "execution_count": 22,
   "metadata": {
    "colab": {
     "base_uri": "https://localhost:8080/",
     "height": 1000
    },
    "colab_type": "code",
    "id": "N9rxNJ9AzkVj",
    "outputId": "ade89b2c-cb7a-4a39-c9f4-715b4329cb87"
   },
   "outputs": [
    {
     "name": "stdout",
     "output_type": "stream",
     "text": [
      "Train on 42500 samples, validate on 7500 samples\n",
      "Epoch 1/50\n",
      "42500/42500 [==============================] - 2s 47us/step - loss: 1.5459 - acc: 0.4508 - val_loss: 1.6722 - val_acc: 0.4087\n",
      "Epoch 2/50\n",
      "42500/42500 [==============================] - 2s 36us/step - loss: 1.5465 - acc: 0.4497 - val_loss: 1.6843 - val_acc: 0.4103\n",
      "Epoch 3/50\n",
      "42500/42500 [==============================] - 2s 37us/step - loss: 1.5462 - acc: 0.4509 - val_loss: 1.6831 - val_acc: 0.4057\n",
      "Epoch 4/50\n",
      "42500/42500 [==============================] - 1s 32us/step - loss: 1.5462 - acc: 0.4506 - val_loss: 1.6577 - val_acc: 0.4149\n",
      "Epoch 5/50\n",
      "42500/42500 [==============================] - 1s 32us/step - loss: 1.5477 - acc: 0.4501 - val_loss: 1.6901 - val_acc: 0.4004\n",
      "Epoch 6/50\n",
      "42500/42500 [==============================] - 1s 32us/step - loss: 1.5433 - acc: 0.4513 - val_loss: 1.6521 - val_acc: 0.4172\n",
      "Epoch 7/50\n",
      "42500/42500 [==============================] - 1s 32us/step - loss: 1.5403 - acc: 0.4523 - val_loss: 1.6442 - val_acc: 0.4153\n",
      "Epoch 8/50\n",
      "42500/42500 [==============================] - 1s 32us/step - loss: 1.5377 - acc: 0.4520 - val_loss: 1.6909 - val_acc: 0.3875\n",
      "Epoch 9/50\n",
      "42500/42500 [==============================] - 1s 32us/step - loss: 1.5403 - acc: 0.4522 - val_loss: 1.6907 - val_acc: 0.4140\n",
      "Epoch 10/50\n",
      "42500/42500 [==============================] - 1s 33us/step - loss: 1.5378 - acc: 0.4524 - val_loss: 1.6709 - val_acc: 0.4040\n",
      "Epoch 11/50\n",
      "42500/42500 [==============================] - 1s 33us/step - loss: 1.5446 - acc: 0.4494 - val_loss: 1.6645 - val_acc: 0.4173\n",
      "Epoch 12/50\n",
      "42500/42500 [==============================] - 1s 33us/step - loss: 1.5384 - acc: 0.4519 - val_loss: 1.6684 - val_acc: 0.4013\n",
      "Epoch 13/50\n",
      "42500/42500 [==============================] - 1s 33us/step - loss: 1.5370 - acc: 0.4527 - val_loss: 1.8352 - val_acc: 0.3673\n",
      "Epoch 14/50\n",
      "42500/42500 [==============================] - 1s 33us/step - loss: 1.5367 - acc: 0.4518 - val_loss: 1.8123 - val_acc: 0.3743\n",
      "Epoch 15/50\n",
      "42500/42500 [==============================] - 1s 32us/step - loss: 1.5402 - acc: 0.4528 - val_loss: 1.7281 - val_acc: 0.4017\n",
      "Epoch 16/50\n",
      "42500/42500 [==============================] - 1s 33us/step - loss: 1.5393 - acc: 0.4531 - val_loss: 1.6878 - val_acc: 0.4085\n",
      "Epoch 17/50\n",
      "42500/42500 [==============================] - 1s 32us/step - loss: 1.5324 - acc: 0.4525 - val_loss: 1.6548 - val_acc: 0.4171\n",
      "Epoch 18/50\n",
      "42500/42500 [==============================] - 1s 33us/step - loss: 1.5347 - acc: 0.4547 - val_loss: 1.6943 - val_acc: 0.4065\n",
      "Epoch 19/50\n",
      "42500/42500 [==============================] - 1s 34us/step - loss: 1.5396 - acc: 0.4538 - val_loss: 1.6496 - val_acc: 0.4095\n",
      "Epoch 20/50\n",
      "42500/42500 [==============================] - 1s 33us/step - loss: 1.5306 - acc: 0.4555 - val_loss: 1.6603 - val_acc: 0.4133\n",
      "Epoch 21/50\n",
      "42500/42500 [==============================] - 1s 33us/step - loss: 1.5287 - acc: 0.4541 - val_loss: 1.6727 - val_acc: 0.4056\n",
      "Epoch 22/50\n",
      "42500/42500 [==============================] - 1s 33us/step - loss: 1.5318 - acc: 0.4555 - val_loss: 1.6850 - val_acc: 0.4085\n",
      "Epoch 23/50\n",
      "42500/42500 [==============================] - 1s 33us/step - loss: 1.5348 - acc: 0.4548 - val_loss: 1.6565 - val_acc: 0.4185\n",
      "Epoch 24/50\n",
      "42500/42500 [==============================] - 1s 33us/step - loss: 1.5317 - acc: 0.4536 - val_loss: 1.7447 - val_acc: 0.4043\n",
      "Epoch 25/50\n",
      "42500/42500 [==============================] - 1s 33us/step - loss: 1.5408 - acc: 0.4525 - val_loss: 1.6622 - val_acc: 0.4137\n",
      "Epoch 26/50\n",
      "42500/42500 [==============================] - 1s 33us/step - loss: 1.5311 - acc: 0.4538 - val_loss: 1.6696 - val_acc: 0.4143\n",
      "Epoch 27/50\n",
      "42500/42500 [==============================] - 1s 33us/step - loss: 1.5331 - acc: 0.4564 - val_loss: 1.6517 - val_acc: 0.4136\n",
      "Epoch 28/50\n",
      "42500/42500 [==============================] - 1s 33us/step - loss: 1.5280 - acc: 0.4571 - val_loss: 1.6999 - val_acc: 0.3979\n",
      "Epoch 29/50\n",
      "42500/42500 [==============================] - 1s 33us/step - loss: 1.5260 - acc: 0.4575 - val_loss: 1.6687 - val_acc: 0.4007\n",
      "Epoch 30/50\n",
      "42500/42500 [==============================] - 1s 33us/step - loss: 1.5287 - acc: 0.4559 - val_loss: 1.7140 - val_acc: 0.4057\n",
      "Epoch 31/50\n",
      "42500/42500 [==============================] - 1s 33us/step - loss: 1.5318 - acc: 0.4532 - val_loss: 1.6783 - val_acc: 0.4023\n",
      "Epoch 32/50\n",
      "42500/42500 [==============================] - 1s 33us/step - loss: 1.5250 - acc: 0.4580 - val_loss: 1.7138 - val_acc: 0.3823\n",
      "Epoch 33/50\n",
      "42500/42500 [==============================] - 1s 33us/step - loss: 1.5290 - acc: 0.4573 - val_loss: 1.6983 - val_acc: 0.3927\n",
      "Epoch 34/50\n",
      "42500/42500 [==============================] - 1s 33us/step - loss: 1.5302 - acc: 0.4537 - val_loss: 1.7093 - val_acc: 0.4000\n",
      "Epoch 35/50\n",
      "42500/42500 [==============================] - 1s 33us/step - loss: 1.5293 - acc: 0.4567 - val_loss: 1.6501 - val_acc: 0.4185\n",
      "Epoch 36/50\n",
      "42500/42500 [==============================] - 1s 34us/step - loss: 1.5262 - acc: 0.4560 - val_loss: 1.6854 - val_acc: 0.4056\n",
      "Epoch 37/50\n",
      "42500/42500 [==============================] - 1s 34us/step - loss: 1.5285 - acc: 0.4560 - val_loss: 1.6704 - val_acc: 0.4104\n",
      "Epoch 38/50\n",
      "42500/42500 [==============================] - 1s 33us/step - loss: 1.5245 - acc: 0.4572 - val_loss: 1.6650 - val_acc: 0.4147\n",
      "Epoch 39/50\n",
      "42500/42500 [==============================] - 1s 34us/step - loss: 1.5239 - acc: 0.4587 - val_loss: 1.6699 - val_acc: 0.4068\n",
      "Epoch 40/50\n",
      "42500/42500 [==============================] - 1s 34us/step - loss: 1.5230 - acc: 0.4580 - val_loss: 1.6554 - val_acc: 0.4181\n",
      "Epoch 41/50\n",
      "42500/42500 [==============================] - 1s 34us/step - loss: 1.5231 - acc: 0.4570 - val_loss: 1.7382 - val_acc: 0.3903\n",
      "Epoch 42/50\n",
      "42500/42500 [==============================] - 1s 33us/step - loss: 1.5306 - acc: 0.4560 - val_loss: 1.7249 - val_acc: 0.3799\n",
      "Epoch 43/50\n",
      "42500/42500 [==============================] - 1s 33us/step - loss: 1.5301 - acc: 0.4554 - val_loss: 1.6541 - val_acc: 0.4143\n",
      "Epoch 44/50\n",
      "42500/42500 [==============================] - 1s 33us/step - loss: 1.5213 - acc: 0.4597 - val_loss: 1.6954 - val_acc: 0.4036\n",
      "Epoch 45/50\n",
      "42500/42500 [==============================] - 2s 35us/step - loss: 1.5177 - acc: 0.4598 - val_loss: 1.7799 - val_acc: 0.3816\n",
      "Epoch 46/50\n",
      "42500/42500 [==============================] - 1s 34us/step - loss: 1.5241 - acc: 0.4581 - val_loss: 1.6600 - val_acc: 0.4128\n",
      "Epoch 47/50\n",
      "42500/42500 [==============================] - 1s 33us/step - loss: 1.5207 - acc: 0.4581 - val_loss: 1.6804 - val_acc: 0.4063\n",
      "Epoch 48/50\n",
      "42500/42500 [==============================] - 1s 34us/step - loss: 1.5208 - acc: 0.4587 - val_loss: 1.6525 - val_acc: 0.4177\n",
      "Epoch 49/50\n",
      "42500/42500 [==============================] - 1s 34us/step - loss: 1.5185 - acc: 0.4604 - val_loss: 1.6652 - val_acc: 0.4179\n",
      "Epoch 50/50\n",
      "42500/42500 [==============================] - 1s 34us/step - loss: 1.5210 - acc: 0.4576 - val_loss: 1.6695 - val_acc: 0.4044\n"
     ]
    },
    {
     "data": {
      "text/plain": [
       "<tensorflow.python.keras.callbacks.History at 0x7f0e301baef0>"
      ]
     },
     "execution_count": 22,
     "metadata": {},
     "output_type": "execute_result"
    }
   ],
   "source": [
    "AloneModel.compile(optimizer='adam',loss='sparse_categorical_crossentropy',metrics=['accuracy'])\n",
    "\n",
    "#myCP = ModelCheckpoint(save_best_only=True,filepath='student.h5',monitor = 'val_accuracy')\n",
    "\n",
    "myCP = ModelCheckpoint(save_best_only=True,filepath='alone.h5',monitor = 'val_acc')\n",
    "\n",
    "AloneModel.fit(x_train,y_train,epochs=50,validation_split=0.15,batch_size=128,callbacks=[myCP])"
   ]
  },
  {
   "cell_type": "code",
   "execution_count": 21,
   "metadata": {
    "colab": {
     "base_uri": "https://localhost:8080/",
     "height": 52
    },
    "colab_type": "code",
    "id": "14Fju4pe0Ln2",
    "outputId": "d96423bb-7c7f-4dd6-ad0d-22f5480eda7a"
   },
   "outputs": [
    {
     "ename": "OSError",
     "evalue": "Unable to open file (unable to open file: name = 'alone.h5', errno = 2, error message = 'No such file or directory', flags = 0, o_flags = 0)",
     "output_type": "error",
     "traceback": [
      "\u001b[0;31m---------------------------------------------------------------------------\u001b[0m",
      "\u001b[0;31mOSError\u001b[0m                                   Traceback (most recent call last)",
      "\u001b[0;32m<ipython-input-21-55e412c30065>\u001b[0m in \u001b[0;36m<module>\u001b[0;34m\u001b[0m\n\u001b[0;32m----> 1\u001b[0;31m \u001b[0mAloneModel\u001b[0m \u001b[0;34m=\u001b[0m \u001b[0mload_model\u001b[0m\u001b[0;34m(\u001b[0m\u001b[0;34m\"alone.h5\"\u001b[0m\u001b[0;34m)\u001b[0m\u001b[0;34m\u001b[0m\u001b[0m\n\u001b[0m\u001b[1;32m      2\u001b[0m \u001b[0mAloneModel\u001b[0m\u001b[0;34m.\u001b[0m\u001b[0mevaluate\u001b[0m\u001b[0;34m(\u001b[0m\u001b[0mx_test\u001b[0m\u001b[0;34m,\u001b[0m\u001b[0my_test\u001b[0m\u001b[0;34m)\u001b[0m\u001b[0;34m\u001b[0m\u001b[0m\n",
      "\u001b[0;32m~/anaconda3/envs/py35/lib/python3.5/site-packages/tensorflow/python/keras/engine/saving.py\u001b[0m in \u001b[0;36mload_model\u001b[0;34m(filepath, custom_objects, compile)\u001b[0m\n\u001b[1;32m    217\u001b[0m   \u001b[0mopened_new_file\u001b[0m \u001b[0;34m=\u001b[0m \u001b[0;32mnot\u001b[0m \u001b[0misinstance\u001b[0m\u001b[0;34m(\u001b[0m\u001b[0mfilepath\u001b[0m\u001b[0;34m,\u001b[0m \u001b[0mh5py\u001b[0m\u001b[0;34m.\u001b[0m\u001b[0mFile\u001b[0m\u001b[0;34m)\u001b[0m\u001b[0;34m\u001b[0m\u001b[0m\n\u001b[1;32m    218\u001b[0m   \u001b[0;32mif\u001b[0m \u001b[0mopened_new_file\u001b[0m\u001b[0;34m:\u001b[0m\u001b[0;34m\u001b[0m\u001b[0m\n\u001b[0;32m--> 219\u001b[0;31m     \u001b[0mf\u001b[0m \u001b[0;34m=\u001b[0m \u001b[0mh5py\u001b[0m\u001b[0;34m.\u001b[0m\u001b[0mFile\u001b[0m\u001b[0;34m(\u001b[0m\u001b[0mfilepath\u001b[0m\u001b[0;34m,\u001b[0m \u001b[0mmode\u001b[0m\u001b[0;34m=\u001b[0m\u001b[0;34m'r'\u001b[0m\u001b[0;34m)\u001b[0m\u001b[0;34m\u001b[0m\u001b[0m\n\u001b[0m\u001b[1;32m    220\u001b[0m   \u001b[0;32melse\u001b[0m\u001b[0;34m:\u001b[0m\u001b[0;34m\u001b[0m\u001b[0m\n\u001b[1;32m    221\u001b[0m     \u001b[0mf\u001b[0m \u001b[0;34m=\u001b[0m \u001b[0mfilepath\u001b[0m\u001b[0;34m\u001b[0m\u001b[0m\n",
      "\u001b[0;32m~/.local/lib/python3.5/site-packages/h5py/_hl/files.py\u001b[0m in \u001b[0;36m__init__\u001b[0;34m(self, name, mode, driver, libver, userblock_size, swmr, **kwds)\u001b[0m\n\u001b[1;32m    310\u001b[0m             \u001b[0;32mwith\u001b[0m \u001b[0mphil\u001b[0m\u001b[0;34m:\u001b[0m\u001b[0;34m\u001b[0m\u001b[0m\n\u001b[1;32m    311\u001b[0m                 \u001b[0mfapl\u001b[0m \u001b[0;34m=\u001b[0m \u001b[0mmake_fapl\u001b[0m\u001b[0;34m(\u001b[0m\u001b[0mdriver\u001b[0m\u001b[0;34m,\u001b[0m \u001b[0mlibver\u001b[0m\u001b[0;34m,\u001b[0m \u001b[0;34m**\u001b[0m\u001b[0mkwds\u001b[0m\u001b[0;34m)\u001b[0m\u001b[0;34m\u001b[0m\u001b[0m\n\u001b[0;32m--> 312\u001b[0;31m                 \u001b[0mfid\u001b[0m \u001b[0;34m=\u001b[0m \u001b[0mmake_fid\u001b[0m\u001b[0;34m(\u001b[0m\u001b[0mname\u001b[0m\u001b[0;34m,\u001b[0m \u001b[0mmode\u001b[0m\u001b[0;34m,\u001b[0m \u001b[0muserblock_size\u001b[0m\u001b[0;34m,\u001b[0m \u001b[0mfapl\u001b[0m\u001b[0;34m,\u001b[0m \u001b[0mswmr\u001b[0m\u001b[0;34m=\u001b[0m\u001b[0mswmr\u001b[0m\u001b[0;34m)\u001b[0m\u001b[0;34m\u001b[0m\u001b[0m\n\u001b[0m\u001b[1;32m    313\u001b[0m \u001b[0;34m\u001b[0m\u001b[0m\n\u001b[1;32m    314\u001b[0m                 \u001b[0;32mif\u001b[0m \u001b[0mswmr_support\u001b[0m\u001b[0;34m:\u001b[0m\u001b[0;34m\u001b[0m\u001b[0m\n",
      "\u001b[0;32m~/.local/lib/python3.5/site-packages/h5py/_hl/files.py\u001b[0m in \u001b[0;36mmake_fid\u001b[0;34m(name, mode, userblock_size, fapl, fcpl, swmr)\u001b[0m\n\u001b[1;32m    140\u001b[0m         \u001b[0;32mif\u001b[0m \u001b[0mswmr\u001b[0m \u001b[0;32mand\u001b[0m \u001b[0mswmr_support\u001b[0m\u001b[0;34m:\u001b[0m\u001b[0;34m\u001b[0m\u001b[0m\n\u001b[1;32m    141\u001b[0m             \u001b[0mflags\u001b[0m \u001b[0;34m|=\u001b[0m \u001b[0mh5f\u001b[0m\u001b[0;34m.\u001b[0m\u001b[0mACC_SWMR_READ\u001b[0m\u001b[0;34m\u001b[0m\u001b[0m\n\u001b[0;32m--> 142\u001b[0;31m         \u001b[0mfid\u001b[0m \u001b[0;34m=\u001b[0m \u001b[0mh5f\u001b[0m\u001b[0;34m.\u001b[0m\u001b[0mopen\u001b[0m\u001b[0;34m(\u001b[0m\u001b[0mname\u001b[0m\u001b[0;34m,\u001b[0m \u001b[0mflags\u001b[0m\u001b[0;34m,\u001b[0m \u001b[0mfapl\u001b[0m\u001b[0;34m=\u001b[0m\u001b[0mfapl\u001b[0m\u001b[0;34m)\u001b[0m\u001b[0;34m\u001b[0m\u001b[0m\n\u001b[0m\u001b[1;32m    143\u001b[0m     \u001b[0;32melif\u001b[0m \u001b[0mmode\u001b[0m \u001b[0;34m==\u001b[0m \u001b[0;34m'r+'\u001b[0m\u001b[0;34m:\u001b[0m\u001b[0;34m\u001b[0m\u001b[0m\n\u001b[1;32m    144\u001b[0m         \u001b[0mfid\u001b[0m \u001b[0;34m=\u001b[0m \u001b[0mh5f\u001b[0m\u001b[0;34m.\u001b[0m\u001b[0mopen\u001b[0m\u001b[0;34m(\u001b[0m\u001b[0mname\u001b[0m\u001b[0;34m,\u001b[0m \u001b[0mh5f\u001b[0m\u001b[0;34m.\u001b[0m\u001b[0mACC_RDWR\u001b[0m\u001b[0;34m,\u001b[0m \u001b[0mfapl\u001b[0m\u001b[0;34m=\u001b[0m\u001b[0mfapl\u001b[0m\u001b[0;34m)\u001b[0m\u001b[0;34m\u001b[0m\u001b[0m\n",
      "\u001b[0;32mh5py/_objects.pyx\u001b[0m in \u001b[0;36mh5py._objects.with_phil.wrapper\u001b[0;34m()\u001b[0m\n",
      "\u001b[0;32mh5py/_objects.pyx\u001b[0m in \u001b[0;36mh5py._objects.with_phil.wrapper\u001b[0;34m()\u001b[0m\n",
      "\u001b[0;32mh5py/h5f.pyx\u001b[0m in \u001b[0;36mh5py.h5f.open\u001b[0;34m()\u001b[0m\n",
      "\u001b[0;31mOSError\u001b[0m: Unable to open file (unable to open file: name = 'alone.h5', errno = 2, error message = 'No such file or directory', flags = 0, o_flags = 0)"
     ]
    }
   ],
   "source": [
    "AloneModel = load_model(\"alone.h5\")\n",
    "AloneModel.evaluate(x_test,y_test)"
   ]
  },
  {
   "cell_type": "code",
   "execution_count": null,
   "metadata": {
    "colab": {},
    "colab_type": "code",
    "id": "P91kVQ-ORtzh"
   },
   "outputs": [],
   "source": []
  },
  {
   "cell_type": "markdown",
   "metadata": {
    "colab_type": "text",
    "id": "EW1IbWlkRvQv"
   },
   "source": [
    "# References\n",
    "[Nervanasystem github's\n",
    "](https://nervanasystems.github.io/distiller/knowledge_distillation.html)\n",
    "\n",
    "[Hinton et. al. - \n",
    "Distilling the Knowledge in a Neural Network](https://arxiv.org/abs/1503.02531)\n",
    "\n",
    "[Seyed-Iman Mirzadeh et. al. - Improved Knowledge Distillation via Teacher Assistant:Bridging the Gap Between Student and Teacher](https://arxiv.org/abs/1902.03393)"
   ]
  },
  {
   "cell_type": "code",
   "execution_count": 0,
   "metadata": {
    "colab": {},
    "colab_type": "code",
    "id": "uDQb_wAfRwat"
   },
   "outputs": [],
   "source": []
  }
 ],
 "metadata": {
  "accelerator": "GPU",
  "colab": {
   "collapsed_sections": [],
   "include_colab_link": true,
   "name": "Knowledge-Distillation-Notebook",
   "provenance": [],
   "version": "0.3.2"
  },
  "kernelspec": {
   "display_name": "Python 3",
   "language": "python",
   "name": "python3"
  },
  "language_info": {
   "codemirror_mode": {
    "name": "ipython",
    "version": 3
   },
   "file_extension": ".py",
   "mimetype": "text/x-python",
   "name": "python",
   "nbconvert_exporter": "python",
   "pygments_lexer": "ipython3",
   "version": "3.5.6"
  }
 },
 "nbformat": 4,
 "nbformat_minor": 1
}
